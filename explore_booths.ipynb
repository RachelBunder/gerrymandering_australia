{
 "metadata": {
  "language_info": {
   "codemirror_mode": {
    "name": "ipython",
    "version": 3
   },
   "file_extension": ".py",
   "mimetype": "text/x-python",
   "name": "python",
   "nbconvert_exporter": "python",
   "pygments_lexer": "ipython3",
   "version": "3.8.5-final"
  },
  "orig_nbformat": 2,
  "kernelspec": {
   "name": "py38_gerrymander",
   "display_name": "py38_gerrymander"
  }
 },
 "nbformat": 4,
 "nbformat_minor": 2,
 "cells": [
  {
   "cell_type": "code",
   "execution_count": 58,
   "metadata": {},
   "outputs": [],
   "source": [
    "import pandas as pd\n",
    "import shapely\n",
    "import os\n",
    "\n",
    "import plotly.express as px\n",
    "import plotly.graph_objects as go\n",
    "\n",
    "from scipy.spatial import Voronoi"
   ]
  },
  {
   "cell_type": "markdown",
   "metadata": {},
   "source": [
    "# Explore data\n",
    "\n",
    "Terminology I need to define\n",
    "* Division\n",
    "* Booth\n",
    "* AEC\n",
    "* 2019 election information: why (booths change each election, diviosn borders change frequently as well)\n",
    "* PPVC pre polling voting centre\n",
    "\n",
    "In this document I want to:\n",
    "* Explore current divisions and polling booths\n",
    "* Plot them using plotly: have 2019 division as one region, and the booths shown inside. \n",
    "* Create a voronoi tesselation for the booths\n",
    "* Plot the voronoi tesselation\n"
   ]
  },
  {
   "cell_type": "markdown",
   "metadata": {},
   "source": [
    "## Get data\n",
    "Data is available from the Australian Electoral Commision "
   ]
  },
  {
   "cell_type": "code",
   "execution_count": 2,
   "metadata": {},
   "outputs": [
    {
     "output_type": "execute_result",
     "data": {
      "text/plain": "  State  DivisionID DivisionNm  PollingPlaceID  PollingPlaceTypeID  \\\n0   ACT         318       Bean           93925                   5   \n1   ACT         318       Bean           93927                   5   \n2   ACT         318       Bean           11877                   1   \n3   ACT         318       Bean           11452                   1   \n4   ACT         318       Bean            8761                   1   \n\n        PollingPlaceNm                  PremisesNm     PremisesAddress1  \\\n0  Belconnen BEAN PPVC  Belconnen Community Centre       26 Chandler St   \n1        BLV Bean PPVC                BLV Canberra  50 Marcus Clarke St   \n2             Bonython     Bonython Primary School        64 Hurtle Ave   \n3              Calwell         Calwell High School       111 Casey Cres   \n4              Chapman      Chapman Primary School       46-50 Perry Dr   \n\n  PremisesAddress2 PremisesAddress3 PremisesSuburb PremisesStateAb  \\\n0              NaN              NaN      BELCONNEN             ACT   \n1              NaN              NaN  CANBERRA CITY             ACT   \n2              NaN              NaN       BONYTHON             ACT   \n3              NaN              NaN        CALWELL             ACT   \n4              NaN              NaN        CHAPMAN             ACT   \n\n   PremisesPostCode   Latitude   Longitude  \n0            2900.0 -35.238930  149.069655  \n1            2601.0 -35.277334  149.126869  \n2            2905.0 -35.431800  149.083000  \n3            2905.0 -35.440670  149.117600  \n4            2611.0 -35.356400  149.042000  ",
      "text/html": "<div>\n<style scoped>\n    .dataframe tbody tr th:only-of-type {\n        vertical-align: middle;\n    }\n\n    .dataframe tbody tr th {\n        vertical-align: top;\n    }\n\n    .dataframe thead th {\n        text-align: right;\n    }\n</style>\n<table border=\"1\" class=\"dataframe\">\n  <thead>\n    <tr style=\"text-align: right;\">\n      <th></th>\n      <th>State</th>\n      <th>DivisionID</th>\n      <th>DivisionNm</th>\n      <th>PollingPlaceID</th>\n      <th>PollingPlaceTypeID</th>\n      <th>PollingPlaceNm</th>\n      <th>PremisesNm</th>\n      <th>PremisesAddress1</th>\n      <th>PremisesAddress2</th>\n      <th>PremisesAddress3</th>\n      <th>PremisesSuburb</th>\n      <th>PremisesStateAb</th>\n      <th>PremisesPostCode</th>\n      <th>Latitude</th>\n      <th>Longitude</th>\n    </tr>\n  </thead>\n  <tbody>\n    <tr>\n      <th>0</th>\n      <td>ACT</td>\n      <td>318</td>\n      <td>Bean</td>\n      <td>93925</td>\n      <td>5</td>\n      <td>Belconnen BEAN PPVC</td>\n      <td>Belconnen Community Centre</td>\n      <td>26 Chandler St</td>\n      <td>NaN</td>\n      <td>NaN</td>\n      <td>BELCONNEN</td>\n      <td>ACT</td>\n      <td>2900.0</td>\n      <td>-35.238930</td>\n      <td>149.069655</td>\n    </tr>\n    <tr>\n      <th>1</th>\n      <td>ACT</td>\n      <td>318</td>\n      <td>Bean</td>\n      <td>93927</td>\n      <td>5</td>\n      <td>BLV Bean PPVC</td>\n      <td>BLV Canberra</td>\n      <td>50 Marcus Clarke St</td>\n      <td>NaN</td>\n      <td>NaN</td>\n      <td>CANBERRA CITY</td>\n      <td>ACT</td>\n      <td>2601.0</td>\n      <td>-35.277334</td>\n      <td>149.126869</td>\n    </tr>\n    <tr>\n      <th>2</th>\n      <td>ACT</td>\n      <td>318</td>\n      <td>Bean</td>\n      <td>11877</td>\n      <td>1</td>\n      <td>Bonython</td>\n      <td>Bonython Primary School</td>\n      <td>64 Hurtle Ave</td>\n      <td>NaN</td>\n      <td>NaN</td>\n      <td>BONYTHON</td>\n      <td>ACT</td>\n      <td>2905.0</td>\n      <td>-35.431800</td>\n      <td>149.083000</td>\n    </tr>\n    <tr>\n      <th>3</th>\n      <td>ACT</td>\n      <td>318</td>\n      <td>Bean</td>\n      <td>11452</td>\n      <td>1</td>\n      <td>Calwell</td>\n      <td>Calwell High School</td>\n      <td>111 Casey Cres</td>\n      <td>NaN</td>\n      <td>NaN</td>\n      <td>CALWELL</td>\n      <td>ACT</td>\n      <td>2905.0</td>\n      <td>-35.440670</td>\n      <td>149.117600</td>\n    </tr>\n    <tr>\n      <th>4</th>\n      <td>ACT</td>\n      <td>318</td>\n      <td>Bean</td>\n      <td>8761</td>\n      <td>1</td>\n      <td>Chapman</td>\n      <td>Chapman Primary School</td>\n      <td>46-50 Perry Dr</td>\n      <td>NaN</td>\n      <td>NaN</td>\n      <td>CHAPMAN</td>\n      <td>ACT</td>\n      <td>2611.0</td>\n      <td>-35.356400</td>\n      <td>149.042000</td>\n    </tr>\n  </tbody>\n</table>\n</div>"
     },
     "metadata": {},
     "execution_count": 2
    }
   ],
   "source": [
    "booth_info_loc = 'data/20190518/GeneralPollingPlacesDownload-24310.csv'\n",
    "\n",
    "try:\n",
    "    booths = pd.read_csv(booth_info_loc,\n",
    "                         skiprows=1)\n",
    "except IOError:\n",
    "    booths = pd.read_csv('https://results.aec.gov.au/24310/Website/Downloads/GeneralPollingPlacesDownload-24310.csv')\n",
    "    booths.to_csv(booth_info_loc)\n",
    "    booths = pd.read_csv(booth_info_loc,\n",
    "                         skiprows=1)\n",
    "\n",
    "booths.head()"
   ]
  },
  {
   "cell_type": "markdown",
   "metadata": {},
   "source": [
    "## First just going to look at booths that I am familiar with\n",
    "\n",
    "Testing with a small region to get experience with the data."
   ]
  },
  {
   "cell_type": "code",
   "execution_count": 5,
   "metadata": {},
   "outputs": [
    {
     "output_type": "execute_result",
     "data": {
      "text/plain": "     State  DivisionID  DivisionNm  PollingPlaceID  PollingPlaceTypeID  \\\n724    NSW         114  Cunningham           65460                   5   \n729    NSW         114  Cunningham             539                   1   \n735    NSW         114  Cunningham           30105                   5   \n739    NSW         114  Cunningham             544                   1   \n742    NSW         114  Cunningham             546                   1   \n744    NSW         114  Cunningham             555                   1   \n745    NSW         114  Cunningham             553                   1   \n765    NSW         114  Cunningham             565                   1   \n766    NSW         114  Cunningham           34033                   5   \n767    NSW         114  Cunningham           83535                   1   \n768    NSW         114  Cunningham             568                   1   \n769    NSW         114  Cunningham             566                   1   \n770    NSW         114  Cunningham             551                   1   \n1069   NSW         120     Gilmore           65612                   5   \n1079   NSW         120     Gilmore           30111                   5   \n3029   NSW         150     Whitlam           65458                   5   \n3042   NSW         150     Whitlam           30141                   5   \n3072   NSW         150     Whitlam           58667                   5   \n\n                   PollingPlaceNm                     PremisesNm  \\\n724           BLV Cunningham PPVC                 BLV Cunningham   \n729                      Coniston         Coniston Public School   \n735   Divisional Office (PREPOLL)              Divisional Office   \n739                   Gwynneville     Gwynneville Primary School   \n742                    Keiraville       Keiraville Public School   \n744                     Mangerton  Mount St Thomas Public School   \n745                   Mount Keira            Edmund Rice College   \n765                    Wollongong           Wollongong Town Hall   \n766    Wollongong CUNNINGHAM PPVC                  3/51 Crown St   \n767               Wollongong East       Wollongong Public School   \n768              Wollongong North       Smith's Hill High School   \n769              Wollongong South       TAFE NSW Wollongong West   \n770               Wollongong West     Lindsay Park Public School   \n1069             BLV Gilmore PPVC                    BLV Gilmore   \n1079  Divisional Office (PREPOLL)              Divisional Office   \n3029             BLV Whitlam PPVC                    BVL Whitlam   \n3042  Divisional Office (PREPOLL)              Divisional Office   \n3072      Wollongong WHITLAM PPVC                  3/51 Crown St   \n\n        PremisesAddress1 PremisesAddress2 PremisesAddress3   PremisesSuburb  \\\n724     Corporate Square          Level 4    43 Burelli St       WOLLONGONG   \n729        123 Auburn St              NaN              NaN         CONISTON   \n735     Corporate Square          Level 4    43 Burelli St       WOLLONGONG   \n739       10A Acacia Ave              NaN              NaN      GWYNNEVILLE   \n742         286 Gipps Rd              NaN              NaN       KEIRAVILLE   \n744    12-14 Taronga Ave              NaN              NaN        MANGERTON   \n745   112 Mount Keira Rd              NaN              NaN  WEST WOLLONGONG   \n765          93 Crown St              NaN              NaN       WOLLONGONG   \n766                  NaN              NaN              NaN       WOLLONGONG   \n767        67a Church St              NaN              NaN       WOLLONGONG   \n768       35-37 Gipps St              NaN              NaN       WOLLONGONG   \n769     36 Gladstone Ave              NaN              NaN       WOLLONGONG   \n770         49 Thames St              NaN              NaN  WEST WOLLONGONG   \n1069    Corporate Square          Level 4    43 Burelli St       WOLLONGONG   \n1079    Corporate Square          Level 4    43 Burelli St       WOLLONGONG   \n3029    Corporate Square          Level 4    43 Burelli St       WOLLONGONG   \n3042    Corporate Square          Level 4    43 Burelli St       WOLLONGONG   \n3072                 NaN              NaN              NaN       WOLLONGONG   \n\n     PremisesStateAb  PremisesPostCode   Latitude   Longitude  \n724              NSW            2500.0 -34.427135  150.898067  \n729              NSW            2500.0 -34.438600  150.887000  \n735              NSW            2500.0 -34.427011  150.898107  \n739              NSW            2500.0 -34.418079  150.879339  \n742              NSW            2500.0 -34.414700  150.873000  \n744              NSW            2500.0 -34.437281  150.870466  \n745              NSW            2500.0 -34.419980  150.863017  \n765              NSW            2500.0 -34.425718  150.897710  \n766              NSW            2500.0 -34.426057  150.899519  \n767              NSW            2500.0 -34.422548  150.896217  \n768              NSW            2500.0 -34.419200  150.895000  \n769              NSW            2500.0 -34.429600  150.886000  \n770              NSW            2500.0 -34.429834  150.861724  \n1069             NSW            2500.0 -34.875295  150.603992  \n1079             NSW            2500.0 -34.427011  150.898107  \n3029             NSW            2500.0 -34.427135  150.898067  \n3042             NSW            2500.0 -34.427135  150.898067  \n3072             NSW            2500.0        NaN         NaN  ",
      "text/html": "<div>\n<style scoped>\n    .dataframe tbody tr th:only-of-type {\n        vertical-align: middle;\n    }\n\n    .dataframe tbody tr th {\n        vertical-align: top;\n    }\n\n    .dataframe thead th {\n        text-align: right;\n    }\n</style>\n<table border=\"1\" class=\"dataframe\">\n  <thead>\n    <tr style=\"text-align: right;\">\n      <th></th>\n      <th>State</th>\n      <th>DivisionID</th>\n      <th>DivisionNm</th>\n      <th>PollingPlaceID</th>\n      <th>PollingPlaceTypeID</th>\n      <th>PollingPlaceNm</th>\n      <th>PremisesNm</th>\n      <th>PremisesAddress1</th>\n      <th>PremisesAddress2</th>\n      <th>PremisesAddress3</th>\n      <th>PremisesSuburb</th>\n      <th>PremisesStateAb</th>\n      <th>PremisesPostCode</th>\n      <th>Latitude</th>\n      <th>Longitude</th>\n    </tr>\n  </thead>\n  <tbody>\n    <tr>\n      <th>724</th>\n      <td>NSW</td>\n      <td>114</td>\n      <td>Cunningham</td>\n      <td>65460</td>\n      <td>5</td>\n      <td>BLV Cunningham PPVC</td>\n      <td>BLV Cunningham</td>\n      <td>Corporate Square</td>\n      <td>Level 4</td>\n      <td>43 Burelli St</td>\n      <td>WOLLONGONG</td>\n      <td>NSW</td>\n      <td>2500.0</td>\n      <td>-34.427135</td>\n      <td>150.898067</td>\n    </tr>\n    <tr>\n      <th>729</th>\n      <td>NSW</td>\n      <td>114</td>\n      <td>Cunningham</td>\n      <td>539</td>\n      <td>1</td>\n      <td>Coniston</td>\n      <td>Coniston Public School</td>\n      <td>123 Auburn St</td>\n      <td>NaN</td>\n      <td>NaN</td>\n      <td>CONISTON</td>\n      <td>NSW</td>\n      <td>2500.0</td>\n      <td>-34.438600</td>\n      <td>150.887000</td>\n    </tr>\n    <tr>\n      <th>735</th>\n      <td>NSW</td>\n      <td>114</td>\n      <td>Cunningham</td>\n      <td>30105</td>\n      <td>5</td>\n      <td>Divisional Office (PREPOLL)</td>\n      <td>Divisional Office</td>\n      <td>Corporate Square</td>\n      <td>Level 4</td>\n      <td>43 Burelli St</td>\n      <td>WOLLONGONG</td>\n      <td>NSW</td>\n      <td>2500.0</td>\n      <td>-34.427011</td>\n      <td>150.898107</td>\n    </tr>\n    <tr>\n      <th>739</th>\n      <td>NSW</td>\n      <td>114</td>\n      <td>Cunningham</td>\n      <td>544</td>\n      <td>1</td>\n      <td>Gwynneville</td>\n      <td>Gwynneville Primary School</td>\n      <td>10A Acacia Ave</td>\n      <td>NaN</td>\n      <td>NaN</td>\n      <td>GWYNNEVILLE</td>\n      <td>NSW</td>\n      <td>2500.0</td>\n      <td>-34.418079</td>\n      <td>150.879339</td>\n    </tr>\n    <tr>\n      <th>742</th>\n      <td>NSW</td>\n      <td>114</td>\n      <td>Cunningham</td>\n      <td>546</td>\n      <td>1</td>\n      <td>Keiraville</td>\n      <td>Keiraville Public School</td>\n      <td>286 Gipps Rd</td>\n      <td>NaN</td>\n      <td>NaN</td>\n      <td>KEIRAVILLE</td>\n      <td>NSW</td>\n      <td>2500.0</td>\n      <td>-34.414700</td>\n      <td>150.873000</td>\n    </tr>\n    <tr>\n      <th>744</th>\n      <td>NSW</td>\n      <td>114</td>\n      <td>Cunningham</td>\n      <td>555</td>\n      <td>1</td>\n      <td>Mangerton</td>\n      <td>Mount St Thomas Public School</td>\n      <td>12-14 Taronga Ave</td>\n      <td>NaN</td>\n      <td>NaN</td>\n      <td>MANGERTON</td>\n      <td>NSW</td>\n      <td>2500.0</td>\n      <td>-34.437281</td>\n      <td>150.870466</td>\n    </tr>\n    <tr>\n      <th>745</th>\n      <td>NSW</td>\n      <td>114</td>\n      <td>Cunningham</td>\n      <td>553</td>\n      <td>1</td>\n      <td>Mount Keira</td>\n      <td>Edmund Rice College</td>\n      <td>112 Mount Keira Rd</td>\n      <td>NaN</td>\n      <td>NaN</td>\n      <td>WEST WOLLONGONG</td>\n      <td>NSW</td>\n      <td>2500.0</td>\n      <td>-34.419980</td>\n      <td>150.863017</td>\n    </tr>\n    <tr>\n      <th>765</th>\n      <td>NSW</td>\n      <td>114</td>\n      <td>Cunningham</td>\n      <td>565</td>\n      <td>1</td>\n      <td>Wollongong</td>\n      <td>Wollongong Town Hall</td>\n      <td>93 Crown St</td>\n      <td>NaN</td>\n      <td>NaN</td>\n      <td>WOLLONGONG</td>\n      <td>NSW</td>\n      <td>2500.0</td>\n      <td>-34.425718</td>\n      <td>150.897710</td>\n    </tr>\n    <tr>\n      <th>766</th>\n      <td>NSW</td>\n      <td>114</td>\n      <td>Cunningham</td>\n      <td>34033</td>\n      <td>5</td>\n      <td>Wollongong CUNNINGHAM PPVC</td>\n      <td>3/51 Crown St</td>\n      <td>NaN</td>\n      <td>NaN</td>\n      <td>NaN</td>\n      <td>WOLLONGONG</td>\n      <td>NSW</td>\n      <td>2500.0</td>\n      <td>-34.426057</td>\n      <td>150.899519</td>\n    </tr>\n    <tr>\n      <th>767</th>\n      <td>NSW</td>\n      <td>114</td>\n      <td>Cunningham</td>\n      <td>83535</td>\n      <td>1</td>\n      <td>Wollongong East</td>\n      <td>Wollongong Public School</td>\n      <td>67a Church St</td>\n      <td>NaN</td>\n      <td>NaN</td>\n      <td>WOLLONGONG</td>\n      <td>NSW</td>\n      <td>2500.0</td>\n      <td>-34.422548</td>\n      <td>150.896217</td>\n    </tr>\n    <tr>\n      <th>768</th>\n      <td>NSW</td>\n      <td>114</td>\n      <td>Cunningham</td>\n      <td>568</td>\n      <td>1</td>\n      <td>Wollongong North</td>\n      <td>Smith's Hill High School</td>\n      <td>35-37 Gipps St</td>\n      <td>NaN</td>\n      <td>NaN</td>\n      <td>WOLLONGONG</td>\n      <td>NSW</td>\n      <td>2500.0</td>\n      <td>-34.419200</td>\n      <td>150.895000</td>\n    </tr>\n    <tr>\n      <th>769</th>\n      <td>NSW</td>\n      <td>114</td>\n      <td>Cunningham</td>\n      <td>566</td>\n      <td>1</td>\n      <td>Wollongong South</td>\n      <td>TAFE NSW Wollongong West</td>\n      <td>36 Gladstone Ave</td>\n      <td>NaN</td>\n      <td>NaN</td>\n      <td>WOLLONGONG</td>\n      <td>NSW</td>\n      <td>2500.0</td>\n      <td>-34.429600</td>\n      <td>150.886000</td>\n    </tr>\n    <tr>\n      <th>770</th>\n      <td>NSW</td>\n      <td>114</td>\n      <td>Cunningham</td>\n      <td>551</td>\n      <td>1</td>\n      <td>Wollongong West</td>\n      <td>Lindsay Park Public School</td>\n      <td>49 Thames St</td>\n      <td>NaN</td>\n      <td>NaN</td>\n      <td>WEST WOLLONGONG</td>\n      <td>NSW</td>\n      <td>2500.0</td>\n      <td>-34.429834</td>\n      <td>150.861724</td>\n    </tr>\n    <tr>\n      <th>1069</th>\n      <td>NSW</td>\n      <td>120</td>\n      <td>Gilmore</td>\n      <td>65612</td>\n      <td>5</td>\n      <td>BLV Gilmore PPVC</td>\n      <td>BLV Gilmore</td>\n      <td>Corporate Square</td>\n      <td>Level 4</td>\n      <td>43 Burelli St</td>\n      <td>WOLLONGONG</td>\n      <td>NSW</td>\n      <td>2500.0</td>\n      <td>-34.875295</td>\n      <td>150.603992</td>\n    </tr>\n    <tr>\n      <th>1079</th>\n      <td>NSW</td>\n      <td>120</td>\n      <td>Gilmore</td>\n      <td>30111</td>\n      <td>5</td>\n      <td>Divisional Office (PREPOLL)</td>\n      <td>Divisional Office</td>\n      <td>Corporate Square</td>\n      <td>Level 4</td>\n      <td>43 Burelli St</td>\n      <td>WOLLONGONG</td>\n      <td>NSW</td>\n      <td>2500.0</td>\n      <td>-34.427011</td>\n      <td>150.898107</td>\n    </tr>\n    <tr>\n      <th>3029</th>\n      <td>NSW</td>\n      <td>150</td>\n      <td>Whitlam</td>\n      <td>65458</td>\n      <td>5</td>\n      <td>BLV Whitlam PPVC</td>\n      <td>BVL Whitlam</td>\n      <td>Corporate Square</td>\n      <td>Level 4</td>\n      <td>43 Burelli St</td>\n      <td>WOLLONGONG</td>\n      <td>NSW</td>\n      <td>2500.0</td>\n      <td>-34.427135</td>\n      <td>150.898067</td>\n    </tr>\n    <tr>\n      <th>3042</th>\n      <td>NSW</td>\n      <td>150</td>\n      <td>Whitlam</td>\n      <td>30141</td>\n      <td>5</td>\n      <td>Divisional Office (PREPOLL)</td>\n      <td>Divisional Office</td>\n      <td>Corporate Square</td>\n      <td>Level 4</td>\n      <td>43 Burelli St</td>\n      <td>WOLLONGONG</td>\n      <td>NSW</td>\n      <td>2500.0</td>\n      <td>-34.427135</td>\n      <td>150.898067</td>\n    </tr>\n    <tr>\n      <th>3072</th>\n      <td>NSW</td>\n      <td>150</td>\n      <td>Whitlam</td>\n      <td>58667</td>\n      <td>5</td>\n      <td>Wollongong WHITLAM PPVC</td>\n      <td>3/51 Crown St</td>\n      <td>NaN</td>\n      <td>NaN</td>\n      <td>NaN</td>\n      <td>WOLLONGONG</td>\n      <td>NSW</td>\n      <td>2500.0</td>\n      <td>NaN</td>\n      <td>NaN</td>\n    </tr>\n  </tbody>\n</table>\n</div>"
     },
     "metadata": {},
     "execution_count": 5
    }
   ],
   "source": [
    "\n",
    "booths2500 = booths[booths['PremisesPostCode']==2500]\n",
    "booths2500"
   ]
  },
  {
   "cell_type": "code",
   "execution_count": 6,
   "metadata": {},
   "outputs": [
    {
     "output_type": "display_data",
     "data": {
      "application/vnd.plotly.v1+json": {
       "config": {
        "plotlyServerURL": "https://plot.ly"
       },
       "data": [
        {
         "customdata": [
          [
           "Cunningham",
           "BLV Cunningham PPVC"
          ],
          [
           "Cunningham",
           "Coniston"
          ],
          [
           "Cunningham",
           "Divisional Office (PREPOLL)"
          ],
          [
           "Cunningham",
           "Gwynneville"
          ],
          [
           "Cunningham",
           "Keiraville"
          ],
          [
           "Cunningham",
           "Mangerton"
          ],
          [
           "Cunningham",
           "Mount Keira"
          ],
          [
           "Cunningham",
           "Wollongong"
          ],
          [
           "Cunningham",
           "Wollongong CUNNINGHAM PPVC"
          ],
          [
           "Cunningham",
           "Wollongong East"
          ],
          [
           "Cunningham",
           "Wollongong North"
          ],
          [
           "Cunningham",
           "Wollongong South"
          ],
          [
           "Cunningham",
           "Wollongong West"
          ],
          [
           "Gilmore",
           "BLV Gilmore PPVC"
          ],
          [
           "Gilmore",
           "Divisional Office (PREPOLL)"
          ],
          [
           "Whitlam",
           "BLV Whitlam PPVC"
          ],
          [
           "Whitlam",
           "Divisional Office (PREPOLL)"
          ],
          [
           "Whitlam",
           "Wollongong WHITLAM PPVC"
          ]
         ],
         "hovertemplate": "<b>%{hovertext}</b><br><br>Latitude=%{lat}<br>Longitude=%{lon}<br>DivisionNm=%{customdata[0]}<br>PollingPlaceNm=%{customdata[1]}<extra></extra>",
         "hovertext": [
          "BLV Cunningham",
          "Coniston Public School",
          "Divisional Office",
          "Gwynneville Primary School",
          "Keiraville Public School",
          "Mount St Thomas Public School",
          "Edmund Rice College",
          "Wollongong Town Hall",
          "3/51 Crown St",
          "Wollongong Public School",
          "Smith's Hill High School",
          "TAFE NSW Wollongong West",
          "Lindsay Park Public School",
          "BLV Gilmore",
          "Divisional Office",
          "BVL Whitlam",
          "Divisional Office",
          "3/51 Crown St"
         ],
         "lat": [
          -34.427135,
          -34.4386,
          -34.4270111,
          -34.418079399999996,
          -34.4147,
          -34.4372815,
          -34.4199799,
          -34.425717600000006,
          -34.4260568,
          -34.4225479,
          -34.4192,
          -34.4296,
          -34.4298345,
          -34.8752954,
          -34.4270111,
          -34.427135,
          -34.427135,
          null
         ],
         "legendgroup": "",
         "lon": [
          150.898067,
          150.887,
          150.8981072,
          150.879339,
          150.873,
          150.8704656,
          150.86301740000002,
          150.8977103,
          150.8995189,
          150.8962167,
          150.895,
          150.886,
          150.8617242,
          150.60399180000002,
          150.8981072,
          150.898067,
          150.898067,
          null
         ],
         "marker": {
          "color": "#636efa"
         },
         "mode": "markers",
         "name": "",
         "showlegend": false,
         "subplot": "mapbox",
         "type": "scattermapbox"
        }
       ],
       "layout": {
        "height": 300,
        "legend": {
         "tracegroupgap": 0
        },
        "mapbox": {
         "center": {
          "lat": -34.452489423529414,
          "lon": 150.87078819411764
         },
         "domain": {
          "x": [
           0,
           1
          ],
          "y": [
           0,
           1
          ]
         },
         "style": "open-street-map",
         "zoom": 11
        },
        "margin": {
         "b": 0,
         "l": 0,
         "r": 0,
         "t": 0
        },
        "template": {
         "data": {
          "bar": [
           {
            "error_x": {
             "color": "#2a3f5f"
            },
            "error_y": {
             "color": "#2a3f5f"
            },
            "marker": {
             "line": {
              "color": "#E5ECF6",
              "width": 0.5
             }
            },
            "type": "bar"
           }
          ],
          "barpolar": [
           {
            "marker": {
             "line": {
              "color": "#E5ECF6",
              "width": 0.5
             }
            },
            "type": "barpolar"
           }
          ],
          "carpet": [
           {
            "aaxis": {
             "endlinecolor": "#2a3f5f",
             "gridcolor": "white",
             "linecolor": "white",
             "minorgridcolor": "white",
             "startlinecolor": "#2a3f5f"
            },
            "baxis": {
             "endlinecolor": "#2a3f5f",
             "gridcolor": "white",
             "linecolor": "white",
             "minorgridcolor": "white",
             "startlinecolor": "#2a3f5f"
            },
            "type": "carpet"
           }
          ],
          "choropleth": [
           {
            "colorbar": {
             "outlinewidth": 0,
             "ticks": ""
            },
            "type": "choropleth"
           }
          ],
          "contour": [
           {
            "colorbar": {
             "outlinewidth": 0,
             "ticks": ""
            },
            "colorscale": [
             [
              0,
              "#0d0887"
             ],
             [
              0.1111111111111111,
              "#46039f"
             ],
             [
              0.2222222222222222,
              "#7201a8"
             ],
             [
              0.3333333333333333,
              "#9c179e"
             ],
             [
              0.4444444444444444,
              "#bd3786"
             ],
             [
              0.5555555555555556,
              "#d8576b"
             ],
             [
              0.6666666666666666,
              "#ed7953"
             ],
             [
              0.7777777777777778,
              "#fb9f3a"
             ],
             [
              0.8888888888888888,
              "#fdca26"
             ],
             [
              1,
              "#f0f921"
             ]
            ],
            "type": "contour"
           }
          ],
          "contourcarpet": [
           {
            "colorbar": {
             "outlinewidth": 0,
             "ticks": ""
            },
            "type": "contourcarpet"
           }
          ],
          "heatmap": [
           {
            "colorbar": {
             "outlinewidth": 0,
             "ticks": ""
            },
            "colorscale": [
             [
              0,
              "#0d0887"
             ],
             [
              0.1111111111111111,
              "#46039f"
             ],
             [
              0.2222222222222222,
              "#7201a8"
             ],
             [
              0.3333333333333333,
              "#9c179e"
             ],
             [
              0.4444444444444444,
              "#bd3786"
             ],
             [
              0.5555555555555556,
              "#d8576b"
             ],
             [
              0.6666666666666666,
              "#ed7953"
             ],
             [
              0.7777777777777778,
              "#fb9f3a"
             ],
             [
              0.8888888888888888,
              "#fdca26"
             ],
             [
              1,
              "#f0f921"
             ]
            ],
            "type": "heatmap"
           }
          ],
          "heatmapgl": [
           {
            "colorbar": {
             "outlinewidth": 0,
             "ticks": ""
            },
            "colorscale": [
             [
              0,
              "#0d0887"
             ],
             [
              0.1111111111111111,
              "#46039f"
             ],
             [
              0.2222222222222222,
              "#7201a8"
             ],
             [
              0.3333333333333333,
              "#9c179e"
             ],
             [
              0.4444444444444444,
              "#bd3786"
             ],
             [
              0.5555555555555556,
              "#d8576b"
             ],
             [
              0.6666666666666666,
              "#ed7953"
             ],
             [
              0.7777777777777778,
              "#fb9f3a"
             ],
             [
              0.8888888888888888,
              "#fdca26"
             ],
             [
              1,
              "#f0f921"
             ]
            ],
            "type": "heatmapgl"
           }
          ],
          "histogram": [
           {
            "marker": {
             "colorbar": {
              "outlinewidth": 0,
              "ticks": ""
             }
            },
            "type": "histogram"
           }
          ],
          "histogram2d": [
           {
            "colorbar": {
             "outlinewidth": 0,
             "ticks": ""
            },
            "colorscale": [
             [
              0,
              "#0d0887"
             ],
             [
              0.1111111111111111,
              "#46039f"
             ],
             [
              0.2222222222222222,
              "#7201a8"
             ],
             [
              0.3333333333333333,
              "#9c179e"
             ],
             [
              0.4444444444444444,
              "#bd3786"
             ],
             [
              0.5555555555555556,
              "#d8576b"
             ],
             [
              0.6666666666666666,
              "#ed7953"
             ],
             [
              0.7777777777777778,
              "#fb9f3a"
             ],
             [
              0.8888888888888888,
              "#fdca26"
             ],
             [
              1,
              "#f0f921"
             ]
            ],
            "type": "histogram2d"
           }
          ],
          "histogram2dcontour": [
           {
            "colorbar": {
             "outlinewidth": 0,
             "ticks": ""
            },
            "colorscale": [
             [
              0,
              "#0d0887"
             ],
             [
              0.1111111111111111,
              "#46039f"
             ],
             [
              0.2222222222222222,
              "#7201a8"
             ],
             [
              0.3333333333333333,
              "#9c179e"
             ],
             [
              0.4444444444444444,
              "#bd3786"
             ],
             [
              0.5555555555555556,
              "#d8576b"
             ],
             [
              0.6666666666666666,
              "#ed7953"
             ],
             [
              0.7777777777777778,
              "#fb9f3a"
             ],
             [
              0.8888888888888888,
              "#fdca26"
             ],
             [
              1,
              "#f0f921"
             ]
            ],
            "type": "histogram2dcontour"
           }
          ],
          "mesh3d": [
           {
            "colorbar": {
             "outlinewidth": 0,
             "ticks": ""
            },
            "type": "mesh3d"
           }
          ],
          "parcoords": [
           {
            "line": {
             "colorbar": {
              "outlinewidth": 0,
              "ticks": ""
             }
            },
            "type": "parcoords"
           }
          ],
          "pie": [
           {
            "automargin": true,
            "type": "pie"
           }
          ],
          "scatter": [
           {
            "marker": {
             "colorbar": {
              "outlinewidth": 0,
              "ticks": ""
             }
            },
            "type": "scatter"
           }
          ],
          "scatter3d": [
           {
            "line": {
             "colorbar": {
              "outlinewidth": 0,
              "ticks": ""
             }
            },
            "marker": {
             "colorbar": {
              "outlinewidth": 0,
              "ticks": ""
             }
            },
            "type": "scatter3d"
           }
          ],
          "scattercarpet": [
           {
            "marker": {
             "colorbar": {
              "outlinewidth": 0,
              "ticks": ""
             }
            },
            "type": "scattercarpet"
           }
          ],
          "scattergeo": [
           {
            "marker": {
             "colorbar": {
              "outlinewidth": 0,
              "ticks": ""
             }
            },
            "type": "scattergeo"
           }
          ],
          "scattergl": [
           {
            "marker": {
             "colorbar": {
              "outlinewidth": 0,
              "ticks": ""
             }
            },
            "type": "scattergl"
           }
          ],
          "scattermapbox": [
           {
            "marker": {
             "colorbar": {
              "outlinewidth": 0,
              "ticks": ""
             }
            },
            "type": "scattermapbox"
           }
          ],
          "scatterpolar": [
           {
            "marker": {
             "colorbar": {
              "outlinewidth": 0,
              "ticks": ""
             }
            },
            "type": "scatterpolar"
           }
          ],
          "scatterpolargl": [
           {
            "marker": {
             "colorbar": {
              "outlinewidth": 0,
              "ticks": ""
             }
            },
            "type": "scatterpolargl"
           }
          ],
          "scatterternary": [
           {
            "marker": {
             "colorbar": {
              "outlinewidth": 0,
              "ticks": ""
             }
            },
            "type": "scatterternary"
           }
          ],
          "surface": [
           {
            "colorbar": {
             "outlinewidth": 0,
             "ticks": ""
            },
            "colorscale": [
             [
              0,
              "#0d0887"
             ],
             [
              0.1111111111111111,
              "#46039f"
             ],
             [
              0.2222222222222222,
              "#7201a8"
             ],
             [
              0.3333333333333333,
              "#9c179e"
             ],
             [
              0.4444444444444444,
              "#bd3786"
             ],
             [
              0.5555555555555556,
              "#d8576b"
             ],
             [
              0.6666666666666666,
              "#ed7953"
             ],
             [
              0.7777777777777778,
              "#fb9f3a"
             ],
             [
              0.8888888888888888,
              "#fdca26"
             ],
             [
              1,
              "#f0f921"
             ]
            ],
            "type": "surface"
           }
          ],
          "table": [
           {
            "cells": {
             "fill": {
              "color": "#EBF0F8"
             },
             "line": {
              "color": "white"
             }
            },
            "header": {
             "fill": {
              "color": "#C8D4E3"
             },
             "line": {
              "color": "white"
             }
            },
            "type": "table"
           }
          ]
         },
         "layout": {
          "annotationdefaults": {
           "arrowcolor": "#2a3f5f",
           "arrowhead": 0,
           "arrowwidth": 1
          },
          "coloraxis": {
           "colorbar": {
            "outlinewidth": 0,
            "ticks": ""
           }
          },
          "colorscale": {
           "diverging": [
            [
             0,
             "#8e0152"
            ],
            [
             0.1,
             "#c51b7d"
            ],
            [
             0.2,
             "#de77ae"
            ],
            [
             0.3,
             "#f1b6da"
            ],
            [
             0.4,
             "#fde0ef"
            ],
            [
             0.5,
             "#f7f7f7"
            ],
            [
             0.6,
             "#e6f5d0"
            ],
            [
             0.7,
             "#b8e186"
            ],
            [
             0.8,
             "#7fbc41"
            ],
            [
             0.9,
             "#4d9221"
            ],
            [
             1,
             "#276419"
            ]
           ],
           "sequential": [
            [
             0,
             "#0d0887"
            ],
            [
             0.1111111111111111,
             "#46039f"
            ],
            [
             0.2222222222222222,
             "#7201a8"
            ],
            [
             0.3333333333333333,
             "#9c179e"
            ],
            [
             0.4444444444444444,
             "#bd3786"
            ],
            [
             0.5555555555555556,
             "#d8576b"
            ],
            [
             0.6666666666666666,
             "#ed7953"
            ],
            [
             0.7777777777777778,
             "#fb9f3a"
            ],
            [
             0.8888888888888888,
             "#fdca26"
            ],
            [
             1,
             "#f0f921"
            ]
           ],
           "sequentialminus": [
            [
             0,
             "#0d0887"
            ],
            [
             0.1111111111111111,
             "#46039f"
            ],
            [
             0.2222222222222222,
             "#7201a8"
            ],
            [
             0.3333333333333333,
             "#9c179e"
            ],
            [
             0.4444444444444444,
             "#bd3786"
            ],
            [
             0.5555555555555556,
             "#d8576b"
            ],
            [
             0.6666666666666666,
             "#ed7953"
            ],
            [
             0.7777777777777778,
             "#fb9f3a"
            ],
            [
             0.8888888888888888,
             "#fdca26"
            ],
            [
             1,
             "#f0f921"
            ]
           ]
          },
          "colorway": [
           "#636efa",
           "#EF553B",
           "#00cc96",
           "#ab63fa",
           "#FFA15A",
           "#19d3f3",
           "#FF6692",
           "#B6E880",
           "#FF97FF",
           "#FECB52"
          ],
          "font": {
           "color": "#2a3f5f"
          },
          "geo": {
           "bgcolor": "white",
           "lakecolor": "white",
           "landcolor": "#E5ECF6",
           "showlakes": true,
           "showland": true,
           "subunitcolor": "white"
          },
          "hoverlabel": {
           "align": "left"
          },
          "hovermode": "closest",
          "mapbox": {
           "style": "light"
          },
          "paper_bgcolor": "white",
          "plot_bgcolor": "#E5ECF6",
          "polar": {
           "angularaxis": {
            "gridcolor": "white",
            "linecolor": "white",
            "ticks": ""
           },
           "bgcolor": "#E5ECF6",
           "radialaxis": {
            "gridcolor": "white",
            "linecolor": "white",
            "ticks": ""
           }
          },
          "scene": {
           "xaxis": {
            "backgroundcolor": "#E5ECF6",
            "gridcolor": "white",
            "gridwidth": 2,
            "linecolor": "white",
            "showbackground": true,
            "ticks": "",
            "zerolinecolor": "white"
           },
           "yaxis": {
            "backgroundcolor": "#E5ECF6",
            "gridcolor": "white",
            "gridwidth": 2,
            "linecolor": "white",
            "showbackground": true,
            "ticks": "",
            "zerolinecolor": "white"
           },
           "zaxis": {
            "backgroundcolor": "#E5ECF6",
            "gridcolor": "white",
            "gridwidth": 2,
            "linecolor": "white",
            "showbackground": true,
            "ticks": "",
            "zerolinecolor": "white"
           }
          },
          "shapedefaults": {
           "line": {
            "color": "#2a3f5f"
           }
          },
          "ternary": {
           "aaxis": {
            "gridcolor": "white",
            "linecolor": "white",
            "ticks": ""
           },
           "baxis": {
            "gridcolor": "white",
            "linecolor": "white",
            "ticks": ""
           },
           "bgcolor": "#E5ECF6",
           "caxis": {
            "gridcolor": "white",
            "linecolor": "white",
            "ticks": ""
           }
          },
          "title": {
           "x": 0.05
          },
          "xaxis": {
           "automargin": true,
           "gridcolor": "white",
           "linecolor": "white",
           "ticks": "",
           "title": {
            "standoff": 15
           },
           "zerolinecolor": "white",
           "zerolinewidth": 2
          },
          "yaxis": {
           "automargin": true,
           "gridcolor": "white",
           "linecolor": "white",
           "ticks": "",
           "title": {
            "standoff": 15
           },
           "zerolinecolor": "white",
           "zerolinewidth": 2
          }
         }
        }
       }
      }
     },
     "metadata": {}
    }
   ],
   "source": [
    "fig = px.scatter_mapbox(booths2500, lat=\"Latitude\", lon=\"Longitude\", hover_name=\"PremisesNm\", \n",
    "                        hover_data=[\"DivisionNm\", \"PollingPlaceNm\"],\n",
    "                        zoom=11, height=300)\n",
    "fig.update_layout(mapbox_style=\"open-street-map\")\n",
    "fig.update_layout(margin={\"r\":0,\"t\":0,\"l\":0,\"b\":0})\n",
    "fig.show()"
   ]
  },
  {
   "cell_type": "markdown",
   "metadata": {},
   "source": [
    "First problem I can see: what is a booth doing in Nowra. That is definitely not in the 2500 postcode. The address for this booth is actually in central Wollongong and there are 5 others with the same address, but all with different coordinates. "
   ]
  },
  {
   "cell_type": "code",
   "execution_count": 24,
   "metadata": {},
   "outputs": [
    {
     "output_type": "execute_result",
     "data": {
      "text/plain": "     State  DivisionID  DivisionNm  PollingPlaceID  PollingPlaceTypeID  \\\n724    NSW         114  Cunningham           65460                   5   \n735    NSW         114  Cunningham           30105                   5   \n1069   NSW         120     Gilmore           65612                   5   \n1079   NSW         120     Gilmore           30111                   5   \n3029   NSW         150     Whitlam           65458                   5   \n3042   NSW         150     Whitlam           30141                   5   \n\n                   PollingPlaceNm         PremisesNm  PremisesAddress1  \\\n724           BLV Cunningham PPVC     BLV Cunningham  Corporate Square   \n735   Divisional Office (PREPOLL)  Divisional Office  Corporate Square   \n1069             BLV Gilmore PPVC        BLV Gilmore  Corporate Square   \n1079  Divisional Office (PREPOLL)  Divisional Office  Corporate Square   \n3029             BLV Whitlam PPVC        BVL Whitlam  Corporate Square   \n3042  Divisional Office (PREPOLL)  Divisional Office  Corporate Square   \n\n     PremisesAddress2 PremisesAddress3 PremisesSuburb PremisesStateAb  \\\n724           Level 4    43 Burelli St     WOLLONGONG             NSW   \n735           Level 4    43 Burelli St     WOLLONGONG             NSW   \n1069          Level 4    43 Burelli St     WOLLONGONG             NSW   \n1079          Level 4    43 Burelli St     WOLLONGONG             NSW   \n3029          Level 4    43 Burelli St     WOLLONGONG             NSW   \n3042          Level 4    43 Burelli St     WOLLONGONG             NSW   \n\n      PremisesPostCode   Latitude   Longitude  \n724             2500.0 -34.427135  150.898067  \n735             2500.0 -34.427011  150.898107  \n1069            2500.0 -34.875295  150.603992  \n1079            2500.0 -34.427011  150.898107  \n3029            2500.0 -34.427135  150.898067  \n3042            2500.0 -34.427135  150.898067  ",
      "text/html": "<div>\n<style scoped>\n    .dataframe tbody tr th:only-of-type {\n        vertical-align: middle;\n    }\n\n    .dataframe tbody tr th {\n        vertical-align: top;\n    }\n\n    .dataframe thead th {\n        text-align: right;\n    }\n</style>\n<table border=\"1\" class=\"dataframe\">\n  <thead>\n    <tr style=\"text-align: right;\">\n      <th></th>\n      <th>State</th>\n      <th>DivisionID</th>\n      <th>DivisionNm</th>\n      <th>PollingPlaceID</th>\n      <th>PollingPlaceTypeID</th>\n      <th>PollingPlaceNm</th>\n      <th>PremisesNm</th>\n      <th>PremisesAddress1</th>\n      <th>PremisesAddress2</th>\n      <th>PremisesAddress3</th>\n      <th>PremisesSuburb</th>\n      <th>PremisesStateAb</th>\n      <th>PremisesPostCode</th>\n      <th>Latitude</th>\n      <th>Longitude</th>\n    </tr>\n  </thead>\n  <tbody>\n    <tr>\n      <th>724</th>\n      <td>NSW</td>\n      <td>114</td>\n      <td>Cunningham</td>\n      <td>65460</td>\n      <td>5</td>\n      <td>BLV Cunningham PPVC</td>\n      <td>BLV Cunningham</td>\n      <td>Corporate Square</td>\n      <td>Level 4</td>\n      <td>43 Burelli St</td>\n      <td>WOLLONGONG</td>\n      <td>NSW</td>\n      <td>2500.0</td>\n      <td>-34.427135</td>\n      <td>150.898067</td>\n    </tr>\n    <tr>\n      <th>735</th>\n      <td>NSW</td>\n      <td>114</td>\n      <td>Cunningham</td>\n      <td>30105</td>\n      <td>5</td>\n      <td>Divisional Office (PREPOLL)</td>\n      <td>Divisional Office</td>\n      <td>Corporate Square</td>\n      <td>Level 4</td>\n      <td>43 Burelli St</td>\n      <td>WOLLONGONG</td>\n      <td>NSW</td>\n      <td>2500.0</td>\n      <td>-34.427011</td>\n      <td>150.898107</td>\n    </tr>\n    <tr>\n      <th>1069</th>\n      <td>NSW</td>\n      <td>120</td>\n      <td>Gilmore</td>\n      <td>65612</td>\n      <td>5</td>\n      <td>BLV Gilmore PPVC</td>\n      <td>BLV Gilmore</td>\n      <td>Corporate Square</td>\n      <td>Level 4</td>\n      <td>43 Burelli St</td>\n      <td>WOLLONGONG</td>\n      <td>NSW</td>\n      <td>2500.0</td>\n      <td>-34.875295</td>\n      <td>150.603992</td>\n    </tr>\n    <tr>\n      <th>1079</th>\n      <td>NSW</td>\n      <td>120</td>\n      <td>Gilmore</td>\n      <td>30111</td>\n      <td>5</td>\n      <td>Divisional Office (PREPOLL)</td>\n      <td>Divisional Office</td>\n      <td>Corporate Square</td>\n      <td>Level 4</td>\n      <td>43 Burelli St</td>\n      <td>WOLLONGONG</td>\n      <td>NSW</td>\n      <td>2500.0</td>\n      <td>-34.427011</td>\n      <td>150.898107</td>\n    </tr>\n    <tr>\n      <th>3029</th>\n      <td>NSW</td>\n      <td>150</td>\n      <td>Whitlam</td>\n      <td>65458</td>\n      <td>5</td>\n      <td>BLV Whitlam PPVC</td>\n      <td>BVL Whitlam</td>\n      <td>Corporate Square</td>\n      <td>Level 4</td>\n      <td>43 Burelli St</td>\n      <td>WOLLONGONG</td>\n      <td>NSW</td>\n      <td>2500.0</td>\n      <td>-34.427135</td>\n      <td>150.898067</td>\n    </tr>\n    <tr>\n      <th>3042</th>\n      <td>NSW</td>\n      <td>150</td>\n      <td>Whitlam</td>\n      <td>30141</td>\n      <td>5</td>\n      <td>Divisional Office (PREPOLL)</td>\n      <td>Divisional Office</td>\n      <td>Corporate Square</td>\n      <td>Level 4</td>\n      <td>43 Burelli St</td>\n      <td>WOLLONGONG</td>\n      <td>NSW</td>\n      <td>2500.0</td>\n      <td>-34.427135</td>\n      <td>150.898067</td>\n    </tr>\n  </tbody>\n</table>\n</div>"
     },
     "metadata": {},
     "execution_count": 24
    }
   ],
   "source": [
    "booths2500[booths2500['PremisesAddress3']=='43 Burelli St']"
   ]
  },
  {
   "cell_type": "markdown",
   "metadata": {},
   "source": [
    "These are all `PollingPlaceTypeID` = 5. I suspect that these might be for prepolling or some sort of admin that is based out of the Burelli street office, but represents different real locations. For now I am going to remove them. I will come back to it later when I have some voting data to see if I can piece together what this actually is and how important it is.\n",
    "\n",
    "First, just checking the other `PollingPlaceTypeID`:"
   ]
  },
  {
   "cell_type": "code",
   "execution_count": 16,
   "metadata": {},
   "outputs": [
    {
     "output_type": "execute_result",
     "data": {
      "text/plain": "PollingPlaceTypeID\n1    7169\n2     489\n3      42\n4      26\n5    1149\nName: DivisionID, dtype: int64"
     },
     "metadata": {},
     "execution_count": 16
    }
   ],
   "source": [
    "booths.groupby('PollingPlaceTypeID')['DivisionID'].count()"
   ]
  },
  {
   "cell_type": "code",
   "execution_count": 27,
   "metadata": {},
   "outputs": [
    {
     "output_type": "execute_result",
     "data": {
      "text/plain": "     State  DivisionID DivisionNm  PollingPlaceID  PollingPlaceTypeID  \\\n2      ACT         318       Bean           11877                   1   \n3      ACT         318       Bean           11452                   1   \n4      ACT         318       Bean            8761                   1   \n5      ACT         318       Bean            8763                   1   \n6      ACT         318       Bean           93916                   1   \n40     ACT         318       Bean           93923                   2   \n39     ACT         318       Bean           93921                   2   \n41     ACT         318       Bean           93924                   2   \n85     ACT         101   Canberra           32712                   2   \n86     ACT         101   Canberra           58810                   2   \n3093    NT         306   Lingiari           34147                   3   \n2281   NSW         139     Parkes           82529                   3   \n2280   NSW         139     Parkes           65891                   3   \n2279   NSW         139     Parkes           57924                   3   \n995    NSW         118     Farrer           46526                   3   \n3235   QLD         310     Bonner           97533                   4   \n4885    SA         179   Adelaide           65713                   4   \n3324   QLD         156   Brisbane           82958                   4   \n34     ACT         318       Bean           93926                   4   \n132    ACT         102     Fenner           65840                   4   \n22     ACT         318       Bean           93929                   5   \n12     ACT         318       Bean           93932                   5   \n7      ACT         318       Bean           93922                   5   \n1      ACT         318       Bean           93927                   5   \n0      ACT         318       Bean           93925                   5   \n\n                   PollingPlaceNm                   PremisesNm  \\\n2                        Bonython      Bonython Primary School   \n3                         Calwell          Calwell High School   \n4                         Chapman       Chapman Primary School   \n5                        Chisholm     Caroline Chisholm School   \n6                     City (Bean)                Pilgrim House   \n40        Special Hospital Team 2               Multiple sites   \n39        Special Hospital Team 1               Multiple sites   \n41        Special Hospital Team 3               Multiple sites   \n85        Special Hospital Team 1               Multiple sites   \n86        Special Hospital Team 2               Multiple sites   \n3093         Remote Mobile Team 1               Multiple sites   \n2281         Remote Mobile Team 3               Multiple sites   \n2280         Remote Mobile Team 2               Multiple sites   \n2279         Remote Mobile Team 1               Multiple sites   \n995          Remote Mobile Team 1        Pooncarie Post Office   \n3235          Other Mobile Team 1                   Tangalooma   \n4885          Other Mobile Team 1               Multiple sites   \n3324          Other Mobile Team 1               Multiple sites   \n34            Other Mobile Team 1  Alexander Maconachie Centre   \n132           Other Mobile Team 1               Multiple sites   \n22            Gungahlin BEAN PPVC              Quokka Pavilion   \n12    Divisional Office (PREPOLL)            Divisional Office   \n7                  City BEAN PPVC  Canberra Museum and Gallery   \n1                   BLV Bean PPVC                 BLV Canberra   \n0             Belconnen BEAN PPVC   Belconnen Community Centre   \n\n         PremisesAddress1 PremisesAddress2 PremisesAddress3  PremisesSuburb  \\\n2           64 Hurtle Ave              NaN              NaN        BONYTHON   \n3          111 Casey Cres              NaN              NaN         CALWELL   \n4          46-50 Perry Dr              NaN              NaN         CHAPMAN   \n5       108 Hambidge Cres              NaN              NaN        CHISHOLM   \n6      69 Northbourne Ave              NaN              NaN   CANBERRA CITY   \n40                    NaN              NaN              NaN             NaN   \n39                    NaN              NaN              NaN             NaN   \n41                    NaN              NaN              NaN             NaN   \n85                    NaN              NaN              NaN             NaN   \n86                    NaN              NaN              NaN             NaN   \n3093                  NaN              NaN              NaN             NaN   \n2281                  NaN              NaN              NaN             NaN   \n2280                  NaN              NaN              NaN             NaN   \n2279                  NaN              NaN              NaN             NaN   \n995        36 Tarcoola St              NaN              NaN       POONCARIE   \n3235       Moreton Island              NaN              NaN  MORETON ISLAND   \n4885                  NaN              NaN              NaN        ADELAIDE   \n3324                  NaN              NaN              NaN             NaN   \n34       10400 Monaro Hwy              NaN              NaN            HUME   \n132                   NaN              NaN              NaN             NaN   \n22          Flemington Rd              NaN              NaN        MITCHELL   \n12    50 Marcus Clarke St              NaN              NaN   CANBERRA CITY   \n7         176 London Crct              NaN              NaN   CANBERRA CITY   \n1     50 Marcus Clarke St              NaN              NaN   CANBERRA CITY   \n0          26 Chandler St              NaN              NaN       BELCONNEN   \n\n     PremisesStateAb  PremisesPostCode   Latitude   Longitude  \n2                ACT            2905.0 -35.431800  149.083000  \n3                ACT            2905.0 -35.440670  149.117600  \n4                ACT            2611.0 -35.356400  149.042000  \n5                ACT            2905.0 -35.419522  149.122539  \n6                ACT            2601.0 -35.276702  149.129081  \n40               ACT               NaN        NaN         NaN  \n39               ACT               NaN        NaN         NaN  \n41               ACT            2611.0        NaN         NaN  \n85               ACT               NaN        NaN         NaN  \n86               ACT               NaN        NaN         NaN  \n3093              NT             822.0        NaN         NaN  \n2281             NSW               NaN        NaN         NaN  \n2280             NSW               NaN        NaN         NaN  \n2279             NSW               NaN        NaN         NaN  \n995              NSW            2648.0        NaN         NaN  \n3235             QLD            4025.0        NaN         NaN  \n4885              SA            5000.0        NaN         NaN  \n3324             QLD               NaN        NaN         NaN  \n34               ACT            2620.0        NaN         NaN  \n132              ACT            2540.0        NaN         NaN  \n22               ACT            2911.0 -35.219324  149.145173  \n12               ACT            2601.0 -35.277334  149.126869  \n7                ACT            2601.0 -35.280517  149.130861  \n1                ACT            2601.0 -35.277334  149.126869  \n0                ACT            2900.0 -35.238930  149.069655  ",
      "text/html": "<div>\n<style scoped>\n    .dataframe tbody tr th:only-of-type {\n        vertical-align: middle;\n    }\n\n    .dataframe tbody tr th {\n        vertical-align: top;\n    }\n\n    .dataframe thead th {\n        text-align: right;\n    }\n</style>\n<table border=\"1\" class=\"dataframe\">\n  <thead>\n    <tr style=\"text-align: right;\">\n      <th></th>\n      <th>State</th>\n      <th>DivisionID</th>\n      <th>DivisionNm</th>\n      <th>PollingPlaceID</th>\n      <th>PollingPlaceTypeID</th>\n      <th>PollingPlaceNm</th>\n      <th>PremisesNm</th>\n      <th>PremisesAddress1</th>\n      <th>PremisesAddress2</th>\n      <th>PremisesAddress3</th>\n      <th>PremisesSuburb</th>\n      <th>PremisesStateAb</th>\n      <th>PremisesPostCode</th>\n      <th>Latitude</th>\n      <th>Longitude</th>\n    </tr>\n  </thead>\n  <tbody>\n    <tr>\n      <th>2</th>\n      <td>ACT</td>\n      <td>318</td>\n      <td>Bean</td>\n      <td>11877</td>\n      <td>1</td>\n      <td>Bonython</td>\n      <td>Bonython Primary School</td>\n      <td>64 Hurtle Ave</td>\n      <td>NaN</td>\n      <td>NaN</td>\n      <td>BONYTHON</td>\n      <td>ACT</td>\n      <td>2905.0</td>\n      <td>-35.431800</td>\n      <td>149.083000</td>\n    </tr>\n    <tr>\n      <th>3</th>\n      <td>ACT</td>\n      <td>318</td>\n      <td>Bean</td>\n      <td>11452</td>\n      <td>1</td>\n      <td>Calwell</td>\n      <td>Calwell High School</td>\n      <td>111 Casey Cres</td>\n      <td>NaN</td>\n      <td>NaN</td>\n      <td>CALWELL</td>\n      <td>ACT</td>\n      <td>2905.0</td>\n      <td>-35.440670</td>\n      <td>149.117600</td>\n    </tr>\n    <tr>\n      <th>4</th>\n      <td>ACT</td>\n      <td>318</td>\n      <td>Bean</td>\n      <td>8761</td>\n      <td>1</td>\n      <td>Chapman</td>\n      <td>Chapman Primary School</td>\n      <td>46-50 Perry Dr</td>\n      <td>NaN</td>\n      <td>NaN</td>\n      <td>CHAPMAN</td>\n      <td>ACT</td>\n      <td>2611.0</td>\n      <td>-35.356400</td>\n      <td>149.042000</td>\n    </tr>\n    <tr>\n      <th>5</th>\n      <td>ACT</td>\n      <td>318</td>\n      <td>Bean</td>\n      <td>8763</td>\n      <td>1</td>\n      <td>Chisholm</td>\n      <td>Caroline Chisholm School</td>\n      <td>108 Hambidge Cres</td>\n      <td>NaN</td>\n      <td>NaN</td>\n      <td>CHISHOLM</td>\n      <td>ACT</td>\n      <td>2905.0</td>\n      <td>-35.419522</td>\n      <td>149.122539</td>\n    </tr>\n    <tr>\n      <th>6</th>\n      <td>ACT</td>\n      <td>318</td>\n      <td>Bean</td>\n      <td>93916</td>\n      <td>1</td>\n      <td>City (Bean)</td>\n      <td>Pilgrim House</td>\n      <td>69 Northbourne Ave</td>\n      <td>NaN</td>\n      <td>NaN</td>\n      <td>CANBERRA CITY</td>\n      <td>ACT</td>\n      <td>2601.0</td>\n      <td>-35.276702</td>\n      <td>149.129081</td>\n    </tr>\n    <tr>\n      <th>40</th>\n      <td>ACT</td>\n      <td>318</td>\n      <td>Bean</td>\n      <td>93923</td>\n      <td>2</td>\n      <td>Special Hospital Team 2</td>\n      <td>Multiple sites</td>\n      <td>NaN</td>\n      <td>NaN</td>\n      <td>NaN</td>\n      <td>NaN</td>\n      <td>ACT</td>\n      <td>NaN</td>\n      <td>NaN</td>\n      <td>NaN</td>\n    </tr>\n    <tr>\n      <th>39</th>\n      <td>ACT</td>\n      <td>318</td>\n      <td>Bean</td>\n      <td>93921</td>\n      <td>2</td>\n      <td>Special Hospital Team 1</td>\n      <td>Multiple sites</td>\n      <td>NaN</td>\n      <td>NaN</td>\n      <td>NaN</td>\n      <td>NaN</td>\n      <td>ACT</td>\n      <td>NaN</td>\n      <td>NaN</td>\n      <td>NaN</td>\n    </tr>\n    <tr>\n      <th>41</th>\n      <td>ACT</td>\n      <td>318</td>\n      <td>Bean</td>\n      <td>93924</td>\n      <td>2</td>\n      <td>Special Hospital Team 3</td>\n      <td>Multiple sites</td>\n      <td>NaN</td>\n      <td>NaN</td>\n      <td>NaN</td>\n      <td>NaN</td>\n      <td>ACT</td>\n      <td>2611.0</td>\n      <td>NaN</td>\n      <td>NaN</td>\n    </tr>\n    <tr>\n      <th>85</th>\n      <td>ACT</td>\n      <td>101</td>\n      <td>Canberra</td>\n      <td>32712</td>\n      <td>2</td>\n      <td>Special Hospital Team 1</td>\n      <td>Multiple sites</td>\n      <td>NaN</td>\n      <td>NaN</td>\n      <td>NaN</td>\n      <td>NaN</td>\n      <td>ACT</td>\n      <td>NaN</td>\n      <td>NaN</td>\n      <td>NaN</td>\n    </tr>\n    <tr>\n      <th>86</th>\n      <td>ACT</td>\n      <td>101</td>\n      <td>Canberra</td>\n      <td>58810</td>\n      <td>2</td>\n      <td>Special Hospital Team 2</td>\n      <td>Multiple sites</td>\n      <td>NaN</td>\n      <td>NaN</td>\n      <td>NaN</td>\n      <td>NaN</td>\n      <td>ACT</td>\n      <td>NaN</td>\n      <td>NaN</td>\n      <td>NaN</td>\n    </tr>\n    <tr>\n      <th>3093</th>\n      <td>NT</td>\n      <td>306</td>\n      <td>Lingiari</td>\n      <td>34147</td>\n      <td>3</td>\n      <td>Remote Mobile Team 1</td>\n      <td>Multiple sites</td>\n      <td>NaN</td>\n      <td>NaN</td>\n      <td>NaN</td>\n      <td>NaN</td>\n      <td>NT</td>\n      <td>822.0</td>\n      <td>NaN</td>\n      <td>NaN</td>\n    </tr>\n    <tr>\n      <th>2281</th>\n      <td>NSW</td>\n      <td>139</td>\n      <td>Parkes</td>\n      <td>82529</td>\n      <td>3</td>\n      <td>Remote Mobile Team 3</td>\n      <td>Multiple sites</td>\n      <td>NaN</td>\n      <td>NaN</td>\n      <td>NaN</td>\n      <td>NaN</td>\n      <td>NSW</td>\n      <td>NaN</td>\n      <td>NaN</td>\n      <td>NaN</td>\n    </tr>\n    <tr>\n      <th>2280</th>\n      <td>NSW</td>\n      <td>139</td>\n      <td>Parkes</td>\n      <td>65891</td>\n      <td>3</td>\n      <td>Remote Mobile Team 2</td>\n      <td>Multiple sites</td>\n      <td>NaN</td>\n      <td>NaN</td>\n      <td>NaN</td>\n      <td>NaN</td>\n      <td>NSW</td>\n      <td>NaN</td>\n      <td>NaN</td>\n      <td>NaN</td>\n    </tr>\n    <tr>\n      <th>2279</th>\n      <td>NSW</td>\n      <td>139</td>\n      <td>Parkes</td>\n      <td>57924</td>\n      <td>3</td>\n      <td>Remote Mobile Team 1</td>\n      <td>Multiple sites</td>\n      <td>NaN</td>\n      <td>NaN</td>\n      <td>NaN</td>\n      <td>NaN</td>\n      <td>NSW</td>\n      <td>NaN</td>\n      <td>NaN</td>\n      <td>NaN</td>\n    </tr>\n    <tr>\n      <th>995</th>\n      <td>NSW</td>\n      <td>118</td>\n      <td>Farrer</td>\n      <td>46526</td>\n      <td>3</td>\n      <td>Remote Mobile Team 1</td>\n      <td>Pooncarie Post Office</td>\n      <td>36 Tarcoola St</td>\n      <td>NaN</td>\n      <td>NaN</td>\n      <td>POONCARIE</td>\n      <td>NSW</td>\n      <td>2648.0</td>\n      <td>NaN</td>\n      <td>NaN</td>\n    </tr>\n    <tr>\n      <th>3235</th>\n      <td>QLD</td>\n      <td>310</td>\n      <td>Bonner</td>\n      <td>97533</td>\n      <td>4</td>\n      <td>Other Mobile Team 1</td>\n      <td>Tangalooma</td>\n      <td>Moreton Island</td>\n      <td>NaN</td>\n      <td>NaN</td>\n      <td>MORETON ISLAND</td>\n      <td>QLD</td>\n      <td>4025.0</td>\n      <td>NaN</td>\n      <td>NaN</td>\n    </tr>\n    <tr>\n      <th>4885</th>\n      <td>SA</td>\n      <td>179</td>\n      <td>Adelaide</td>\n      <td>65713</td>\n      <td>4</td>\n      <td>Other Mobile Team 1</td>\n      <td>Multiple sites</td>\n      <td>NaN</td>\n      <td>NaN</td>\n      <td>NaN</td>\n      <td>ADELAIDE</td>\n      <td>SA</td>\n      <td>5000.0</td>\n      <td>NaN</td>\n      <td>NaN</td>\n    </tr>\n    <tr>\n      <th>3324</th>\n      <td>QLD</td>\n      <td>156</td>\n      <td>Brisbane</td>\n      <td>82958</td>\n      <td>4</td>\n      <td>Other Mobile Team 1</td>\n      <td>Multiple sites</td>\n      <td>NaN</td>\n      <td>NaN</td>\n      <td>NaN</td>\n      <td>NaN</td>\n      <td>QLD</td>\n      <td>NaN</td>\n      <td>NaN</td>\n      <td>NaN</td>\n    </tr>\n    <tr>\n      <th>34</th>\n      <td>ACT</td>\n      <td>318</td>\n      <td>Bean</td>\n      <td>93926</td>\n      <td>4</td>\n      <td>Other Mobile Team 1</td>\n      <td>Alexander Maconachie Centre</td>\n      <td>10400 Monaro Hwy</td>\n      <td>NaN</td>\n      <td>NaN</td>\n      <td>HUME</td>\n      <td>ACT</td>\n      <td>2620.0</td>\n      <td>NaN</td>\n      <td>NaN</td>\n    </tr>\n    <tr>\n      <th>132</th>\n      <td>ACT</td>\n      <td>102</td>\n      <td>Fenner</td>\n      <td>65840</td>\n      <td>4</td>\n      <td>Other Mobile Team 1</td>\n      <td>Multiple sites</td>\n      <td>NaN</td>\n      <td>NaN</td>\n      <td>NaN</td>\n      <td>NaN</td>\n      <td>ACT</td>\n      <td>2540.0</td>\n      <td>NaN</td>\n      <td>NaN</td>\n    </tr>\n    <tr>\n      <th>22</th>\n      <td>ACT</td>\n      <td>318</td>\n      <td>Bean</td>\n      <td>93929</td>\n      <td>5</td>\n      <td>Gungahlin BEAN PPVC</td>\n      <td>Quokka Pavilion</td>\n      <td>Flemington Rd</td>\n      <td>NaN</td>\n      <td>NaN</td>\n      <td>MITCHELL</td>\n      <td>ACT</td>\n      <td>2911.0</td>\n      <td>-35.219324</td>\n      <td>149.145173</td>\n    </tr>\n    <tr>\n      <th>12</th>\n      <td>ACT</td>\n      <td>318</td>\n      <td>Bean</td>\n      <td>93932</td>\n      <td>5</td>\n      <td>Divisional Office (PREPOLL)</td>\n      <td>Divisional Office</td>\n      <td>50 Marcus Clarke St</td>\n      <td>NaN</td>\n      <td>NaN</td>\n      <td>CANBERRA CITY</td>\n      <td>ACT</td>\n      <td>2601.0</td>\n      <td>-35.277334</td>\n      <td>149.126869</td>\n    </tr>\n    <tr>\n      <th>7</th>\n      <td>ACT</td>\n      <td>318</td>\n      <td>Bean</td>\n      <td>93922</td>\n      <td>5</td>\n      <td>City BEAN PPVC</td>\n      <td>Canberra Museum and Gallery</td>\n      <td>176 London Crct</td>\n      <td>NaN</td>\n      <td>NaN</td>\n      <td>CANBERRA CITY</td>\n      <td>ACT</td>\n      <td>2601.0</td>\n      <td>-35.280517</td>\n      <td>149.130861</td>\n    </tr>\n    <tr>\n      <th>1</th>\n      <td>ACT</td>\n      <td>318</td>\n      <td>Bean</td>\n      <td>93927</td>\n      <td>5</td>\n      <td>BLV Bean PPVC</td>\n      <td>BLV Canberra</td>\n      <td>50 Marcus Clarke St</td>\n      <td>NaN</td>\n      <td>NaN</td>\n      <td>CANBERRA CITY</td>\n      <td>ACT</td>\n      <td>2601.0</td>\n      <td>-35.277334</td>\n      <td>149.126869</td>\n    </tr>\n    <tr>\n      <th>0</th>\n      <td>ACT</td>\n      <td>318</td>\n      <td>Bean</td>\n      <td>93925</td>\n      <td>5</td>\n      <td>Belconnen BEAN PPVC</td>\n      <td>Belconnen Community Centre</td>\n      <td>26 Chandler St</td>\n      <td>NaN</td>\n      <td>NaN</td>\n      <td>BELCONNEN</td>\n      <td>ACT</td>\n      <td>2900.0</td>\n      <td>-35.238930</td>\n      <td>149.069655</td>\n    </tr>\n  </tbody>\n</table>\n</div>"
     },
     "metadata": {},
     "execution_count": 27
    }
   ],
   "source": [
    "booths.groupby('PollingPlaceTypeID').head(5).sort_values('PollingPlaceTypeID')"
   ]
  },
  {
   "cell_type": "markdown",
   "metadata": {},
   "source": [
    "It appears that the values for `PollingPlaceTypeID`\n",
    "* 1: a normal on the day polling booth\n",
    "* 2: a mobile team that visits hospitals\n",
    "* 3: a mobile team that visits remote locations\n",
    "* 4: other mobile team \n",
    "* 5: Prepolling voting centre? \n",
    "\n",
    "For now I'll exclude everything other than 1. My goal right now is a proof of concept and not to overcomplicate things. I'll need to come back and double check the remote locations as it could be quite easy to have large parts of Australia underrepresented. \n"
   ]
  },
  {
   "cell_type": "code",
   "execution_count": 8,
   "metadata": {},
   "outputs": [],
   "source": [
    "booths_normal = booths[booths['PollingPlaceTypeID']==1]\n",
    "booths2500 = booths_normal[booths_normal['PremisesPostCode']==2500]"
   ]
  },
  {
   "cell_type": "code",
   "execution_count": 9,
   "metadata": {},
   "outputs": [
    {
     "output_type": "display_data",
     "data": {
      "application/vnd.plotly.v1+json": {
       "config": {
        "plotlyServerURL": "https://plot.ly"
       },
       "data": [
        {
         "customdata": [
          [
           "Cunningham",
           "Coniston"
          ],
          [
           "Cunningham",
           "Gwynneville"
          ],
          [
           "Cunningham",
           "Keiraville"
          ],
          [
           "Cunningham",
           "Mangerton"
          ],
          [
           "Cunningham",
           "Mount Keira"
          ],
          [
           "Cunningham",
           "Wollongong"
          ],
          [
           "Cunningham",
           "Wollongong East"
          ],
          [
           "Cunningham",
           "Wollongong North"
          ],
          [
           "Cunningham",
           "Wollongong South"
          ],
          [
           "Cunningham",
           "Wollongong West"
          ]
         ],
         "hovertemplate": "<b>%{hovertext}</b><br><br>Latitude=%{lat}<br>Longitude=%{lon}<br>DivisionNm=%{customdata[0]}<br>PollingPlaceNm=%{customdata[1]}<extra></extra>",
         "hovertext": [
          "Coniston Public School",
          "Gwynneville Primary School",
          "Keiraville Public School",
          "Mount St Thomas Public School",
          "Edmund Rice College",
          "Wollongong Town Hall",
          "Wollongong Public School",
          "Smith's Hill High School",
          "TAFE NSW Wollongong West",
          "Lindsay Park Public School"
         ],
         "lat": [
          -34.4386,
          -34.418079399999996,
          -34.4147,
          -34.4372815,
          -34.4199799,
          -34.425717600000006,
          -34.4225479,
          -34.4192,
          -34.4296,
          -34.4298345
         ],
         "legendgroup": "",
         "lon": [
          150.887,
          150.879339,
          150.873,
          150.8704656,
          150.86301740000002,
          150.8977103,
          150.8962167,
          150.895,
          150.886,
          150.8617242
         ],
         "marker": {
          "color": "#636efa"
         },
         "mode": "markers",
         "name": "",
         "showlegend": false,
         "subplot": "mapbox",
         "type": "scattermapbox"
        }
       ],
       "layout": {
        "height": 300,
        "legend": {
         "tracegroupgap": 0
        },
        "mapbox": {
         "center": {
          "lat": -34.42555408,
          "lon": 150.88094732
         },
         "domain": {
          "x": [
           0,
           1
          ],
          "y": [
           0,
           1
          ]
         },
         "style": "open-street-map",
         "zoom": 11
        },
        "margin": {
         "b": 0,
         "l": 0,
         "r": 0,
         "t": 0
        },
        "template": {
         "data": {
          "bar": [
           {
            "error_x": {
             "color": "#2a3f5f"
            },
            "error_y": {
             "color": "#2a3f5f"
            },
            "marker": {
             "line": {
              "color": "#E5ECF6",
              "width": 0.5
             }
            },
            "type": "bar"
           }
          ],
          "barpolar": [
           {
            "marker": {
             "line": {
              "color": "#E5ECF6",
              "width": 0.5
             }
            },
            "type": "barpolar"
           }
          ],
          "carpet": [
           {
            "aaxis": {
             "endlinecolor": "#2a3f5f",
             "gridcolor": "white",
             "linecolor": "white",
             "minorgridcolor": "white",
             "startlinecolor": "#2a3f5f"
            },
            "baxis": {
             "endlinecolor": "#2a3f5f",
             "gridcolor": "white",
             "linecolor": "white",
             "minorgridcolor": "white",
             "startlinecolor": "#2a3f5f"
            },
            "type": "carpet"
           }
          ],
          "choropleth": [
           {
            "colorbar": {
             "outlinewidth": 0,
             "ticks": ""
            },
            "type": "choropleth"
           }
          ],
          "contour": [
           {
            "colorbar": {
             "outlinewidth": 0,
             "ticks": ""
            },
            "colorscale": [
             [
              0,
              "#0d0887"
             ],
             [
              0.1111111111111111,
              "#46039f"
             ],
             [
              0.2222222222222222,
              "#7201a8"
             ],
             [
              0.3333333333333333,
              "#9c179e"
             ],
             [
              0.4444444444444444,
              "#bd3786"
             ],
             [
              0.5555555555555556,
              "#d8576b"
             ],
             [
              0.6666666666666666,
              "#ed7953"
             ],
             [
              0.7777777777777778,
              "#fb9f3a"
             ],
             [
              0.8888888888888888,
              "#fdca26"
             ],
             [
              1,
              "#f0f921"
             ]
            ],
            "type": "contour"
           }
          ],
          "contourcarpet": [
           {
            "colorbar": {
             "outlinewidth": 0,
             "ticks": ""
            },
            "type": "contourcarpet"
           }
          ],
          "heatmap": [
           {
            "colorbar": {
             "outlinewidth": 0,
             "ticks": ""
            },
            "colorscale": [
             [
              0,
              "#0d0887"
             ],
             [
              0.1111111111111111,
              "#46039f"
             ],
             [
              0.2222222222222222,
              "#7201a8"
             ],
             [
              0.3333333333333333,
              "#9c179e"
             ],
             [
              0.4444444444444444,
              "#bd3786"
             ],
             [
              0.5555555555555556,
              "#d8576b"
             ],
             [
              0.6666666666666666,
              "#ed7953"
             ],
             [
              0.7777777777777778,
              "#fb9f3a"
             ],
             [
              0.8888888888888888,
              "#fdca26"
             ],
             [
              1,
              "#f0f921"
             ]
            ],
            "type": "heatmap"
           }
          ],
          "heatmapgl": [
           {
            "colorbar": {
             "outlinewidth": 0,
             "ticks": ""
            },
            "colorscale": [
             [
              0,
              "#0d0887"
             ],
             [
              0.1111111111111111,
              "#46039f"
             ],
             [
              0.2222222222222222,
              "#7201a8"
             ],
             [
              0.3333333333333333,
              "#9c179e"
             ],
             [
              0.4444444444444444,
              "#bd3786"
             ],
             [
              0.5555555555555556,
              "#d8576b"
             ],
             [
              0.6666666666666666,
              "#ed7953"
             ],
             [
              0.7777777777777778,
              "#fb9f3a"
             ],
             [
              0.8888888888888888,
              "#fdca26"
             ],
             [
              1,
              "#f0f921"
             ]
            ],
            "type": "heatmapgl"
           }
          ],
          "histogram": [
           {
            "marker": {
             "colorbar": {
              "outlinewidth": 0,
              "ticks": ""
             }
            },
            "type": "histogram"
           }
          ],
          "histogram2d": [
           {
            "colorbar": {
             "outlinewidth": 0,
             "ticks": ""
            },
            "colorscale": [
             [
              0,
              "#0d0887"
             ],
             [
              0.1111111111111111,
              "#46039f"
             ],
             [
              0.2222222222222222,
              "#7201a8"
             ],
             [
              0.3333333333333333,
              "#9c179e"
             ],
             [
              0.4444444444444444,
              "#bd3786"
             ],
             [
              0.5555555555555556,
              "#d8576b"
             ],
             [
              0.6666666666666666,
              "#ed7953"
             ],
             [
              0.7777777777777778,
              "#fb9f3a"
             ],
             [
              0.8888888888888888,
              "#fdca26"
             ],
             [
              1,
              "#f0f921"
             ]
            ],
            "type": "histogram2d"
           }
          ],
          "histogram2dcontour": [
           {
            "colorbar": {
             "outlinewidth": 0,
             "ticks": ""
            },
            "colorscale": [
             [
              0,
              "#0d0887"
             ],
             [
              0.1111111111111111,
              "#46039f"
             ],
             [
              0.2222222222222222,
              "#7201a8"
             ],
             [
              0.3333333333333333,
              "#9c179e"
             ],
             [
              0.4444444444444444,
              "#bd3786"
             ],
             [
              0.5555555555555556,
              "#d8576b"
             ],
             [
              0.6666666666666666,
              "#ed7953"
             ],
             [
              0.7777777777777778,
              "#fb9f3a"
             ],
             [
              0.8888888888888888,
              "#fdca26"
             ],
             [
              1,
              "#f0f921"
             ]
            ],
            "type": "histogram2dcontour"
           }
          ],
          "mesh3d": [
           {
            "colorbar": {
             "outlinewidth": 0,
             "ticks": ""
            },
            "type": "mesh3d"
           }
          ],
          "parcoords": [
           {
            "line": {
             "colorbar": {
              "outlinewidth": 0,
              "ticks": ""
             }
            },
            "type": "parcoords"
           }
          ],
          "pie": [
           {
            "automargin": true,
            "type": "pie"
           }
          ],
          "scatter": [
           {
            "marker": {
             "colorbar": {
              "outlinewidth": 0,
              "ticks": ""
             }
            },
            "type": "scatter"
           }
          ],
          "scatter3d": [
           {
            "line": {
             "colorbar": {
              "outlinewidth": 0,
              "ticks": ""
             }
            },
            "marker": {
             "colorbar": {
              "outlinewidth": 0,
              "ticks": ""
             }
            },
            "type": "scatter3d"
           }
          ],
          "scattercarpet": [
           {
            "marker": {
             "colorbar": {
              "outlinewidth": 0,
              "ticks": ""
             }
            },
            "type": "scattercarpet"
           }
          ],
          "scattergeo": [
           {
            "marker": {
             "colorbar": {
              "outlinewidth": 0,
              "ticks": ""
             }
            },
            "type": "scattergeo"
           }
          ],
          "scattergl": [
           {
            "marker": {
             "colorbar": {
              "outlinewidth": 0,
              "ticks": ""
             }
            },
            "type": "scattergl"
           }
          ],
          "scattermapbox": [
           {
            "marker": {
             "colorbar": {
              "outlinewidth": 0,
              "ticks": ""
             }
            },
            "type": "scattermapbox"
           }
          ],
          "scatterpolar": [
           {
            "marker": {
             "colorbar": {
              "outlinewidth": 0,
              "ticks": ""
             }
            },
            "type": "scatterpolar"
           }
          ],
          "scatterpolargl": [
           {
            "marker": {
             "colorbar": {
              "outlinewidth": 0,
              "ticks": ""
             }
            },
            "type": "scatterpolargl"
           }
          ],
          "scatterternary": [
           {
            "marker": {
             "colorbar": {
              "outlinewidth": 0,
              "ticks": ""
             }
            },
            "type": "scatterternary"
           }
          ],
          "surface": [
           {
            "colorbar": {
             "outlinewidth": 0,
             "ticks": ""
            },
            "colorscale": [
             [
              0,
              "#0d0887"
             ],
             [
              0.1111111111111111,
              "#46039f"
             ],
             [
              0.2222222222222222,
              "#7201a8"
             ],
             [
              0.3333333333333333,
              "#9c179e"
             ],
             [
              0.4444444444444444,
              "#bd3786"
             ],
             [
              0.5555555555555556,
              "#d8576b"
             ],
             [
              0.6666666666666666,
              "#ed7953"
             ],
             [
              0.7777777777777778,
              "#fb9f3a"
             ],
             [
              0.8888888888888888,
              "#fdca26"
             ],
             [
              1,
              "#f0f921"
             ]
            ],
            "type": "surface"
           }
          ],
          "table": [
           {
            "cells": {
             "fill": {
              "color": "#EBF0F8"
             },
             "line": {
              "color": "white"
             }
            },
            "header": {
             "fill": {
              "color": "#C8D4E3"
             },
             "line": {
              "color": "white"
             }
            },
            "type": "table"
           }
          ]
         },
         "layout": {
          "annotationdefaults": {
           "arrowcolor": "#2a3f5f",
           "arrowhead": 0,
           "arrowwidth": 1
          },
          "coloraxis": {
           "colorbar": {
            "outlinewidth": 0,
            "ticks": ""
           }
          },
          "colorscale": {
           "diverging": [
            [
             0,
             "#8e0152"
            ],
            [
             0.1,
             "#c51b7d"
            ],
            [
             0.2,
             "#de77ae"
            ],
            [
             0.3,
             "#f1b6da"
            ],
            [
             0.4,
             "#fde0ef"
            ],
            [
             0.5,
             "#f7f7f7"
            ],
            [
             0.6,
             "#e6f5d0"
            ],
            [
             0.7,
             "#b8e186"
            ],
            [
             0.8,
             "#7fbc41"
            ],
            [
             0.9,
             "#4d9221"
            ],
            [
             1,
             "#276419"
            ]
           ],
           "sequential": [
            [
             0,
             "#0d0887"
            ],
            [
             0.1111111111111111,
             "#46039f"
            ],
            [
             0.2222222222222222,
             "#7201a8"
            ],
            [
             0.3333333333333333,
             "#9c179e"
            ],
            [
             0.4444444444444444,
             "#bd3786"
            ],
            [
             0.5555555555555556,
             "#d8576b"
            ],
            [
             0.6666666666666666,
             "#ed7953"
            ],
            [
             0.7777777777777778,
             "#fb9f3a"
            ],
            [
             0.8888888888888888,
             "#fdca26"
            ],
            [
             1,
             "#f0f921"
            ]
           ],
           "sequentialminus": [
            [
             0,
             "#0d0887"
            ],
            [
             0.1111111111111111,
             "#46039f"
            ],
            [
             0.2222222222222222,
             "#7201a8"
            ],
            [
             0.3333333333333333,
             "#9c179e"
            ],
            [
             0.4444444444444444,
             "#bd3786"
            ],
            [
             0.5555555555555556,
             "#d8576b"
            ],
            [
             0.6666666666666666,
             "#ed7953"
            ],
            [
             0.7777777777777778,
             "#fb9f3a"
            ],
            [
             0.8888888888888888,
             "#fdca26"
            ],
            [
             1,
             "#f0f921"
            ]
           ]
          },
          "colorway": [
           "#636efa",
           "#EF553B",
           "#00cc96",
           "#ab63fa",
           "#FFA15A",
           "#19d3f3",
           "#FF6692",
           "#B6E880",
           "#FF97FF",
           "#FECB52"
          ],
          "font": {
           "color": "#2a3f5f"
          },
          "geo": {
           "bgcolor": "white",
           "lakecolor": "white",
           "landcolor": "#E5ECF6",
           "showlakes": true,
           "showland": true,
           "subunitcolor": "white"
          },
          "hoverlabel": {
           "align": "left"
          },
          "hovermode": "closest",
          "mapbox": {
           "style": "light"
          },
          "paper_bgcolor": "white",
          "plot_bgcolor": "#E5ECF6",
          "polar": {
           "angularaxis": {
            "gridcolor": "white",
            "linecolor": "white",
            "ticks": ""
           },
           "bgcolor": "#E5ECF6",
           "radialaxis": {
            "gridcolor": "white",
            "linecolor": "white",
            "ticks": ""
           }
          },
          "scene": {
           "xaxis": {
            "backgroundcolor": "#E5ECF6",
            "gridcolor": "white",
            "gridwidth": 2,
            "linecolor": "white",
            "showbackground": true,
            "ticks": "",
            "zerolinecolor": "white"
           },
           "yaxis": {
            "backgroundcolor": "#E5ECF6",
            "gridcolor": "white",
            "gridwidth": 2,
            "linecolor": "white",
            "showbackground": true,
            "ticks": "",
            "zerolinecolor": "white"
           },
           "zaxis": {
            "backgroundcolor": "#E5ECF6",
            "gridcolor": "white",
            "gridwidth": 2,
            "linecolor": "white",
            "showbackground": true,
            "ticks": "",
            "zerolinecolor": "white"
           }
          },
          "shapedefaults": {
           "line": {
            "color": "#2a3f5f"
           }
          },
          "ternary": {
           "aaxis": {
            "gridcolor": "white",
            "linecolor": "white",
            "ticks": ""
           },
           "baxis": {
            "gridcolor": "white",
            "linecolor": "white",
            "ticks": ""
           },
           "bgcolor": "#E5ECF6",
           "caxis": {
            "gridcolor": "white",
            "linecolor": "white",
            "ticks": ""
           }
          },
          "title": {
           "x": 0.05
          },
          "xaxis": {
           "automargin": true,
           "gridcolor": "white",
           "linecolor": "white",
           "ticks": "",
           "title": {
            "standoff": 15
           },
           "zerolinecolor": "white",
           "zerolinewidth": 2
          },
          "yaxis": {
           "automargin": true,
           "gridcolor": "white",
           "linecolor": "white",
           "ticks": "",
           "title": {
            "standoff": 15
           },
           "zerolinecolor": "white",
           "zerolinewidth": 2
          }
         }
        }
       }
      }
     },
     "metadata": {}
    }
   ],
   "source": [
    "fig = px.scatter_mapbox(booths2500, lat=\"Latitude\", lon=\"Longitude\", hover_name=\"PremisesNm\", \n",
    "                        hover_data=[\"DivisionNm\", \"PollingPlaceNm\"],\n",
    "                        zoom=11, height=300)\n",
    "fig.update_layout(mapbox_style=\"open-street-map\")\n",
    "fig.update_layout(margin={\"r\":0,\"t\":0,\"l\":0,\"b\":0})\n",
    "fig.show()"
   ]
  },
  {
   "cell_type": "markdown",
   "metadata": {},
   "source": [
    "## Making a voronoi tesselation\n",
    "I want to define a region around each booth to capture the area it represents. This is a simplification as it assumes that voters travel to their nearest booth. More could be done with ABS data, but for now this will be fine\n"
   ]
  },
  {
   "cell_type": "code",
   "execution_count": 46,
   "metadata": {},
   "outputs": [],
   "source": [
    "booths2500['coordinates'] = booths2500.apply(lambda x: (x['Longitude'], x['Latitude']), axis=1)\n",
    "vor = Voronoi(booths2500[['Longitude', 'Latitude']].values)\n",
    "vor"
   ]
  },
  {
   "cell_type": "code",
   "execution_count": 54,
   "metadata": {},
   "outputs": [],
   "source": [
    "regions = [[vor.vertices[point][0] for point in region] for region in vor.regions if -1 not in region]"
   ]
  },
  {
   "cell_type": "code",
   "execution_count": 24,
   "metadata": {},
   "outputs": [],
   "source": [
    "import numpy as np\n",
    "points = np.array([[0, 0], [0, 1], [0, 2], [1, 0], [1, 1], [1, 2],\n",
    "                   [2, 0], [2, 1], [2, 2]])\n",
    "from scipy.spatial import Voronoi, voronoi_plot_2d\n",
    "vor = Voronoi(points)"
   ]
  },
  {
   "cell_type": "code",
   "execution_count": 56,
   "metadata": {},
   "outputs": [
    {
     "output_type": "execute_result",
     "data": {
      "text/plain": "[array([150.87182066, -34.42454715]),\n array([150.87897238, -34.4349364 ]),\n array([150.87200987, -34.42617212])]"
     },
     "metadata": {},
     "execution_count": 56
    }
   ],
   "source": [
    "regions = [[vor.vertices[point] for point in region] for region in vor.regions]\n",
    "regions[0]"
   ]
  },
  {
   "cell_type": "code",
   "execution_count": 68,
   "metadata": {
    "tags": []
   },
   "outputs": [
    {
     "output_type": "error",
     "ename": "TypeError",
     "evalue": "unhashable type: 'Scattermapbox'",
     "traceback": [
      "\u001b[0;31m---------------------------------------------------------------------------\u001b[0m",
      "\u001b[0;31mTypeError\u001b[0m                                 Traceback (most recent call last)",
      "\u001b[0;32m<ipython-input-68-563204226818>\u001b[0m in \u001b[0;36m<module>\u001b[0;34m\u001b[0m\n\u001b[1;32m      9\u001b[0m fig.update_layout(\n\u001b[1;32m     10\u001b[0m     \u001b[0mmapbox_style\u001b[0m\u001b[0;34m=\u001b[0m\u001b[0;34m\"white-bg\"\u001b[0m\u001b[0;34m,\u001b[0m\u001b[0;34m\u001b[0m\u001b[0;34m\u001b[0m\u001b[0m\n\u001b[0;32m---> 11\u001b[0;31m     mapbox_layers=[\n\u001b[0m\u001b[1;32m     12\u001b[0m         {\n\u001b[1;32m     13\u001b[0m             go.Scattermapbox(fill = \"toself\",\n",
      "\u001b[0;32m<ipython-input-68-563204226818>\u001b[0m in \u001b[0;36m<listcomp>\u001b[0;34m(.0)\u001b[0m\n\u001b[1;32m     10\u001b[0m     \u001b[0mmapbox_style\u001b[0m\u001b[0;34m=\u001b[0m\u001b[0;34m\"white-bg\"\u001b[0m\u001b[0;34m,\u001b[0m\u001b[0;34m\u001b[0m\u001b[0;34m\u001b[0m\u001b[0m\n\u001b[1;32m     11\u001b[0m     mapbox_layers=[\n\u001b[0;32m---> 12\u001b[0;31m         {\n\u001b[0m\u001b[1;32m     13\u001b[0m             go.Scattermapbox(fill = \"toself\",\n\u001b[1;32m     14\u001b[0m                              \u001b[0mlon\u001b[0m \u001b[0;34m=\u001b[0m \u001b[0;34m[\u001b[0m\u001b[0mr\u001b[0m\u001b[0;34m[\u001b[0m\u001b[0;36m0\u001b[0m\u001b[0;34m]\u001b[0m \u001b[0;32mfor\u001b[0m \u001b[0mr\u001b[0m \u001b[0;32min\u001b[0m \u001b[0mregion\u001b[0m\u001b[0;34m]\u001b[0m\u001b[0;34m,\u001b[0m \u001b[0mlat\u001b[0m \u001b[0;34m=\u001b[0m \u001b[0;34m[\u001b[0m\u001b[0mr\u001b[0m\u001b[0;34m[\u001b[0m\u001b[0;36m1\u001b[0m\u001b[0;34m]\u001b[0m \u001b[0;32mfor\u001b[0m \u001b[0mr\u001b[0m \u001b[0;32min\u001b[0m \u001b[0mregion\u001b[0m\u001b[0;34m]\u001b[0m\u001b[0;34m,\u001b[0m\u001b[0;34m\u001b[0m\u001b[0;34m\u001b[0m\u001b[0m\n",
      "\u001b[0;31mTypeError\u001b[0m: unhashable type: 'Scattermapbox'"
     ]
    }
   ],
   "source": [
    "data = [go.Scattermapbox(lat=booths2500['Latitude'],  lon=booths2500[\"Longitude\"])]\n",
    "\n",
    "\n",
    "fig = px.scatter_mapbox(booths2500, lat=\"Latitude\", lon=\"Longitude\", hover_name=\"PremisesNm\", \n",
    "                        hover_data=[\"DivisionNm\", \"PollingPlaceNm\"],\n",
    "                        zoom=11, height=300)\n",
    "\n",
    "fig.update_layout(mapbox_style=\"open-street-map\")\n",
    "fig.update_layout(margin={\"r\":0,\"t\":0,\"l\":0,\"b\":0})\n",
    "\n",
    "# Adding the voronoi tesselation\n",
    "fig.update_layout(\n",
    "    mapbox_style=\"white-bg\",\n",
    "    mapbox_layers=[\n",
    "        {\n",
    "            go.Scattermapbox(fill = \"toself\",\n",
    "                             lon = [r[0] for r in region], lat = [r[1] for r in region],\n",
    "                            marker = { 'size': 10, 'color': \"orange\" })\n",
    "        }\n",
    "                    for region in regions]\n",
    ")\n",
    "# for region in regions:\n",
    "#     print([r[0] for r in region])\n",
    "#     fig2 = go.Figure(go.Scattermapbox(fill = \"toself\",\n",
    "#                                       lon = [r[0] for r in region], lat = [r[1] for r in region],\n",
    "#                                       marker = { 'size': 10, 'color': \"orange\" }))\n",
    "fig.show()"
   ]
  },
  {
   "cell_type": "code",
   "execution_count": 34,
   "metadata": {},
   "outputs": [
    {
     "output_type": "execute_result",
     "data": {
      "text/plain": "array([[0., 0.],\n       [0., 1.],\n       [0., 2.],\n       [1., 0.],\n       [1., 1.],\n       [1., 2.],\n       [2., 0.],\n       [2., 1.],\n       [2., 2.]])"
     },
     "metadata": {},
     "execution_count": 34
    }
   ],
   "source": [
    "vor.points"
   ]
  },
  {
   "cell_type": "code",
   "execution_count": 41,
   "metadata": {},
   "outputs": [
    {
     "output_type": "execute_result",
     "data": {
      "text/plain": "                 State  DivisionID  DivisionNm  PollingPlaceID  \\\nPremisesStateAb                                                  \nACT                102         102         102             102   \nNSW               2435        2435        2435            2435   \nNT                  39          39          39              39   \nQLD               1299        1299        1299            1299   \nSA                 630         630         630             630   \nTAS                277         277         277             277   \nVIC               1666        1666        1666            1666   \nWA                 721         721         721             721   \n\n                 PollingPlaceTypeID  PollingPlaceNm  PremisesNm  \\\nPremisesStateAb                                                   \nACT                             102             102         102   \nNSW                            2435            2435        2435   \nNT                               39              39          39   \nQLD                            1299            1299        1299   \nSA                              630             630         630   \nTAS                             277             277         277   \nVIC                            1666            1666        1666   \nWA                              721             721         721   \n\n                 PremisesAddress1  PremisesAddress2  PremisesAddress3  \\\nPremisesStateAb                                                         \nACT                           102                 0                 0   \nNSW                          2435                18                 0   \nNT                             39                 0                 0   \nQLD                          1297                35                 0   \nSA                            619                 1                 0   \nTAS                           276                 1                 0   \nVIC                          1654                 1                 0   \nWA                            721                 3                 0   \n\n                 PremisesSuburb  PremisesPostCode  Latitude  Longitude  \\\nPremisesStateAb                                                          \nACT                         102               102       102        102   \nNSW                        2435              2435      2435       2435   \nNT                           39                39        39         39   \nQLD                        1299              1299      1299       1299   \nSA                          630               630       630        630   \nTAS                         277               277       277        277   \nVIC                        1666              1666      1666       1666   \nWA                          721               721       721        721   \n\n                 coordinates  \nPremisesStateAb               \nACT                      102  \nNSW                     2435  \nNT                        39  \nQLD                     1299  \nSA                       630  \nTAS                      277  \nVIC                     1666  \nWA                       721  ",
      "text/html": "<div>\n<style scoped>\n    .dataframe tbody tr th:only-of-type {\n        vertical-align: middle;\n    }\n\n    .dataframe tbody tr th {\n        vertical-align: top;\n    }\n\n    .dataframe thead th {\n        text-align: right;\n    }\n</style>\n<table border=\"1\" class=\"dataframe\">\n  <thead>\n    <tr style=\"text-align: right;\">\n      <th></th>\n      <th>State</th>\n      <th>DivisionID</th>\n      <th>DivisionNm</th>\n      <th>PollingPlaceID</th>\n      <th>PollingPlaceTypeID</th>\n      <th>PollingPlaceNm</th>\n      <th>PremisesNm</th>\n      <th>PremisesAddress1</th>\n      <th>PremisesAddress2</th>\n      <th>PremisesAddress3</th>\n      <th>PremisesSuburb</th>\n      <th>PremisesPostCode</th>\n      <th>Latitude</th>\n      <th>Longitude</th>\n      <th>coordinates</th>\n    </tr>\n    <tr>\n      <th>PremisesStateAb</th>\n      <th></th>\n      <th></th>\n      <th></th>\n      <th></th>\n      <th></th>\n      <th></th>\n      <th></th>\n      <th></th>\n      <th></th>\n      <th></th>\n      <th></th>\n      <th></th>\n      <th></th>\n      <th></th>\n      <th></th>\n    </tr>\n  </thead>\n  <tbody>\n    <tr>\n      <th>ACT</th>\n      <td>102</td>\n      <td>102</td>\n      <td>102</td>\n      <td>102</td>\n      <td>102</td>\n      <td>102</td>\n      <td>102</td>\n      <td>102</td>\n      <td>0</td>\n      <td>0</td>\n      <td>102</td>\n      <td>102</td>\n      <td>102</td>\n      <td>102</td>\n      <td>102</td>\n    </tr>\n    <tr>\n      <th>NSW</th>\n      <td>2435</td>\n      <td>2435</td>\n      <td>2435</td>\n      <td>2435</td>\n      <td>2435</td>\n      <td>2435</td>\n      <td>2435</td>\n      <td>2435</td>\n      <td>18</td>\n      <td>0</td>\n      <td>2435</td>\n      <td>2435</td>\n      <td>2435</td>\n      <td>2435</td>\n      <td>2435</td>\n    </tr>\n    <tr>\n      <th>NT</th>\n      <td>39</td>\n      <td>39</td>\n      <td>39</td>\n      <td>39</td>\n      <td>39</td>\n      <td>39</td>\n      <td>39</td>\n      <td>39</td>\n      <td>0</td>\n      <td>0</td>\n      <td>39</td>\n      <td>39</td>\n      <td>39</td>\n      <td>39</td>\n      <td>39</td>\n    </tr>\n    <tr>\n      <th>QLD</th>\n      <td>1299</td>\n      <td>1299</td>\n      <td>1299</td>\n      <td>1299</td>\n      <td>1299</td>\n      <td>1299</td>\n      <td>1299</td>\n      <td>1297</td>\n      <td>35</td>\n      <td>0</td>\n      <td>1299</td>\n      <td>1299</td>\n      <td>1299</td>\n      <td>1299</td>\n      <td>1299</td>\n    </tr>\n    <tr>\n      <th>SA</th>\n      <td>630</td>\n      <td>630</td>\n      <td>630</td>\n      <td>630</td>\n      <td>630</td>\n      <td>630</td>\n      <td>630</td>\n      <td>619</td>\n      <td>1</td>\n      <td>0</td>\n      <td>630</td>\n      <td>630</td>\n      <td>630</td>\n      <td>630</td>\n      <td>630</td>\n    </tr>\n    <tr>\n      <th>TAS</th>\n      <td>277</td>\n      <td>277</td>\n      <td>277</td>\n      <td>277</td>\n      <td>277</td>\n      <td>277</td>\n      <td>277</td>\n      <td>276</td>\n      <td>1</td>\n      <td>0</td>\n      <td>277</td>\n      <td>277</td>\n      <td>277</td>\n      <td>277</td>\n      <td>277</td>\n    </tr>\n    <tr>\n      <th>VIC</th>\n      <td>1666</td>\n      <td>1666</td>\n      <td>1666</td>\n      <td>1666</td>\n      <td>1666</td>\n      <td>1666</td>\n      <td>1666</td>\n      <td>1654</td>\n      <td>1</td>\n      <td>0</td>\n      <td>1666</td>\n      <td>1666</td>\n      <td>1666</td>\n      <td>1666</td>\n      <td>1666</td>\n    </tr>\n    <tr>\n      <th>WA</th>\n      <td>721</td>\n      <td>721</td>\n      <td>721</td>\n      <td>721</td>\n      <td>721</td>\n      <td>721</td>\n      <td>721</td>\n      <td>721</td>\n      <td>3</td>\n      <td>0</td>\n      <td>721</td>\n      <td>721</td>\n      <td>721</td>\n      <td>721</td>\n      <td>721</td>\n    </tr>\n  </tbody>\n</table>\n</div>"
     },
     "metadata": {},
     "execution_count": 41
    }
   ],
   "source": [
    "booths_normal.groupby('PremisesStateAb').count()"
   ]
  },
  {
   "cell_type": "code",
   "execution_count": 43,
   "metadata": {},
   "outputs": [
    {
     "output_type": "execute_result",
     "data": {
      "text/plain": "10186838987765714516831972232749936484449942329028078508518550046239459951436535048217193743869982210648908638073771326147731196638758894409111397754362489378247923951126615241852562203855152361272254734758028315995418876530994938227735318191607092586558943392462303314757888204428532729022982636318088852451487698130179115088051299915231823140302047142684937861537751601623764112939399218425809686284244938574175140564194417863591390494835292689290288274923657296205762756012097330980899194052820104273772613029309221758615289185940432539873554593102860026792566863227210761085296033989541332602876441676597865847422561512377050877660952324048444438981313421465190131059714908564013476001309682729812657683150548152931893908359610368"
     },
     "metadata": {},
     "execution_count": 43
    }
   ],
   "source": []
  },
  {
   "cell_type": "code",
   "execution_count": null,
   "metadata": {},
   "outputs": [],
   "source": []
  }
 ]
}