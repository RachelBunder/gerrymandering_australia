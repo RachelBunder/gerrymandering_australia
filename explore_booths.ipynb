{
 "metadata": {
  "language_info": {
   "codemirror_mode": {
    "name": "ipython",
    "version": 3
   },
   "file_extension": ".py",
   "mimetype": "text/x-python",
   "name": "python",
   "nbconvert_exporter": "python",
   "pygments_lexer": "ipython3",
   "version": "3.8.5-final"
  },
  "orig_nbformat": 2,
  "kernelspec": {
   "name": "py38_gerrymander",
   "display_name": "py38_gerrymander"
  }
 },
 "nbformat": 4,
 "nbformat_minor": 2,
 "cells": [
  {
   "cell_type": "code",
   "execution_count": 1,
   "metadata": {},
   "outputs": [],
   "source": [
    "import pandas as pd\n",
    "import shapely\n",
    "import os\n",
    "\n",
    "import plotly.express as px"
   ]
  },
  {
   "cell_type": "markdown",
   "metadata": {},
   "source": [
    "# Explore data\n",
    "\n",
    "Terminology I need to define\n",
    "* Division\n",
    "* Booth\n",
    "* AEC\n",
    "* 2019 election information: why (booths change each election, diviosn borders change frequently as well)\n",
    "* PPVC pre polling voting centre\n",
    "\n",
    "In this document I want to:\n",
    "* Explore current divisions and polling booths\n",
    "* Plot them using plotly: have 2019 division as one region, and the booths shown inside. \n",
    "* Create a voronoi tesselation for the booths\n",
    "* Plot the voronoi tesselation\n"
   ]
  },
  {
   "cell_type": "markdown",
   "metadata": {},
   "source": [
    "## Get data\n",
    "Data is available from the Australian Electoral Commision "
   ]
  },
  {
   "cell_type": "code",
   "execution_count": 2,
   "metadata": {},
   "outputs": [
    {
     "output_type": "execute_result",
     "data": {
      "text/plain": "  State  DivisionID DivisionNm  PollingPlaceID  PollingPlaceTypeID  \\\n0   ACT         318       Bean           93925                   5   \n1   ACT         318       Bean           93927                   5   \n2   ACT         318       Bean           11877                   1   \n3   ACT         318       Bean           11452                   1   \n4   ACT         318       Bean            8761                   1   \n\n        PollingPlaceNm                  PremisesNm     PremisesAddress1  \\\n0  Belconnen BEAN PPVC  Belconnen Community Centre       26 Chandler St   \n1        BLV Bean PPVC                BLV Canberra  50 Marcus Clarke St   \n2             Bonython     Bonython Primary School        64 Hurtle Ave   \n3              Calwell         Calwell High School       111 Casey Cres   \n4              Chapman      Chapman Primary School       46-50 Perry Dr   \n\n  PremisesAddress2 PremisesAddress3 PremisesSuburb PremisesStateAb  \\\n0              NaN              NaN      BELCONNEN             ACT   \n1              NaN              NaN  CANBERRA CITY             ACT   \n2              NaN              NaN       BONYTHON             ACT   \n3              NaN              NaN        CALWELL             ACT   \n4              NaN              NaN        CHAPMAN             ACT   \n\n   PremisesPostCode   Latitude   Longitude  \n0            2900.0 -35.238930  149.069655  \n1            2601.0 -35.277334  149.126869  \n2            2905.0 -35.431800  149.083000  \n3            2905.0 -35.440670  149.117600  \n4            2611.0 -35.356400  149.042000  ",
      "text/html": "<div>\n<style scoped>\n    .dataframe tbody tr th:only-of-type {\n        vertical-align: middle;\n    }\n\n    .dataframe tbody tr th {\n        vertical-align: top;\n    }\n\n    .dataframe thead th {\n        text-align: right;\n    }\n</style>\n<table border=\"1\" class=\"dataframe\">\n  <thead>\n    <tr style=\"text-align: right;\">\n      <th></th>\n      <th>State</th>\n      <th>DivisionID</th>\n      <th>DivisionNm</th>\n      <th>PollingPlaceID</th>\n      <th>PollingPlaceTypeID</th>\n      <th>PollingPlaceNm</th>\n      <th>PremisesNm</th>\n      <th>PremisesAddress1</th>\n      <th>PremisesAddress2</th>\n      <th>PremisesAddress3</th>\n      <th>PremisesSuburb</th>\n      <th>PremisesStateAb</th>\n      <th>PremisesPostCode</th>\n      <th>Latitude</th>\n      <th>Longitude</th>\n    </tr>\n  </thead>\n  <tbody>\n    <tr>\n      <th>0</th>\n      <td>ACT</td>\n      <td>318</td>\n      <td>Bean</td>\n      <td>93925</td>\n      <td>5</td>\n      <td>Belconnen BEAN PPVC</td>\n      <td>Belconnen Community Centre</td>\n      <td>26 Chandler St</td>\n      <td>NaN</td>\n      <td>NaN</td>\n      <td>BELCONNEN</td>\n      <td>ACT</td>\n      <td>2900.0</td>\n      <td>-35.238930</td>\n      <td>149.069655</td>\n    </tr>\n    <tr>\n      <th>1</th>\n      <td>ACT</td>\n      <td>318</td>\n      <td>Bean</td>\n      <td>93927</td>\n      <td>5</td>\n      <td>BLV Bean PPVC</td>\n      <td>BLV Canberra</td>\n      <td>50 Marcus Clarke St</td>\n      <td>NaN</td>\n      <td>NaN</td>\n      <td>CANBERRA CITY</td>\n      <td>ACT</td>\n      <td>2601.0</td>\n      <td>-35.277334</td>\n      <td>149.126869</td>\n    </tr>\n    <tr>\n      <th>2</th>\n      <td>ACT</td>\n      <td>318</td>\n      <td>Bean</td>\n      <td>11877</td>\n      <td>1</td>\n      <td>Bonython</td>\n      <td>Bonython Primary School</td>\n      <td>64 Hurtle Ave</td>\n      <td>NaN</td>\n      <td>NaN</td>\n      <td>BONYTHON</td>\n      <td>ACT</td>\n      <td>2905.0</td>\n      <td>-35.431800</td>\n      <td>149.083000</td>\n    </tr>\n    <tr>\n      <th>3</th>\n      <td>ACT</td>\n      <td>318</td>\n      <td>Bean</td>\n      <td>11452</td>\n      <td>1</td>\n      <td>Calwell</td>\n      <td>Calwell High School</td>\n      <td>111 Casey Cres</td>\n      <td>NaN</td>\n      <td>NaN</td>\n      <td>CALWELL</td>\n      <td>ACT</td>\n      <td>2905.0</td>\n      <td>-35.440670</td>\n      <td>149.117600</td>\n    </tr>\n    <tr>\n      <th>4</th>\n      <td>ACT</td>\n      <td>318</td>\n      <td>Bean</td>\n      <td>8761</td>\n      <td>1</td>\n      <td>Chapman</td>\n      <td>Chapman Primary School</td>\n      <td>46-50 Perry Dr</td>\n      <td>NaN</td>\n      <td>NaN</td>\n      <td>CHAPMAN</td>\n      <td>ACT</td>\n      <td>2611.0</td>\n      <td>-35.356400</td>\n      <td>149.042000</td>\n    </tr>\n  </tbody>\n</table>\n</div>"
     },
     "metadata": {},
     "execution_count": 2
    }
   ],
   "source": [
    "booth_info_loc = 'data/20190518/GeneralPollingPlacesDownload-24310.csv'\n",
    "\n",
    "try:\n",
    "    booths = pd.read_csv(booth_info_loc,\n",
    "                         skiprows=1)\n",
    "except IOError:\n",
    "    booths = pd.read_csv('https://results.aec.gov.au/24310/Website/Downloads/GeneralPollingPlacesDownload-24310.csv')\n",
    "    booths.to_csv(booth_info_loc)\n",
    "    booths = pd.read_csv(booth_info_loc,\n",
    "                         skiprows=1)\n",
    "\n",
    "booths.head()"
   ]
  },
  {
   "cell_type": "markdown",
   "metadata": {},
   "source": [
    "## First just going to look at booths that I am familiar with\n",
    "\n",
    "Testing with a small region to get experience with the data.\n",
    "\n",
    "Data quality issues:\n",
    "* Multiple booths with the same address but different lon/lat. I think it might be something with the polling place type id\n"
   ]
  },
  {
   "cell_type": "code",
   "execution_count": 3,
   "metadata": {},
   "outputs": [
    {
     "output_type": "execute_result",
     "data": {
      "text/plain": "     State  DivisionID  DivisionNm  PollingPlaceID  PollingPlaceTypeID  \\\n724    NSW         114  Cunningham           65460                   5   \n729    NSW         114  Cunningham             539                   1   \n735    NSW         114  Cunningham           30105                   5   \n739    NSW         114  Cunningham             544                   1   \n742    NSW         114  Cunningham             546                   1   \n744    NSW         114  Cunningham             555                   1   \n745    NSW         114  Cunningham             553                   1   \n765    NSW         114  Cunningham             565                   1   \n766    NSW         114  Cunningham           34033                   5   \n767    NSW         114  Cunningham           83535                   1   \n768    NSW         114  Cunningham             568                   1   \n769    NSW         114  Cunningham             566                   1   \n770    NSW         114  Cunningham             551                   1   \n1069   NSW         120     Gilmore           65612                   5   \n1079   NSW         120     Gilmore           30111                   5   \n3029   NSW         150     Whitlam           65458                   5   \n3042   NSW         150     Whitlam           30141                   5   \n3072   NSW         150     Whitlam           58667                   5   \n\n                   PollingPlaceNm                     PremisesNm  \\\n724           BLV Cunningham PPVC                 BLV Cunningham   \n729                      Coniston         Coniston Public School   \n735   Divisional Office (PREPOLL)              Divisional Office   \n739                   Gwynneville     Gwynneville Primary School   \n742                    Keiraville       Keiraville Public School   \n744                     Mangerton  Mount St Thomas Public School   \n745                   Mount Keira            Edmund Rice College   \n765                    Wollongong           Wollongong Town Hall   \n766    Wollongong CUNNINGHAM PPVC                  3/51 Crown St   \n767               Wollongong East       Wollongong Public School   \n768              Wollongong North       Smith's Hill High School   \n769              Wollongong South       TAFE NSW Wollongong West   \n770               Wollongong West     Lindsay Park Public School   \n1069             BLV Gilmore PPVC                    BLV Gilmore   \n1079  Divisional Office (PREPOLL)              Divisional Office   \n3029             BLV Whitlam PPVC                    BVL Whitlam   \n3042  Divisional Office (PREPOLL)              Divisional Office   \n3072      Wollongong WHITLAM PPVC                  3/51 Crown St   \n\n        PremisesAddress1 PremisesAddress2 PremisesAddress3   PremisesSuburb  \\\n724     Corporate Square          Level 4    43 Burelli St       WOLLONGONG   \n729        123 Auburn St              NaN              NaN         CONISTON   \n735     Corporate Square          Level 4    43 Burelli St       WOLLONGONG   \n739       10A Acacia Ave              NaN              NaN      GWYNNEVILLE   \n742         286 Gipps Rd              NaN              NaN       KEIRAVILLE   \n744    12-14 Taronga Ave              NaN              NaN        MANGERTON   \n745   112 Mount Keira Rd              NaN              NaN  WEST WOLLONGONG   \n765          93 Crown St              NaN              NaN       WOLLONGONG   \n766                  NaN              NaN              NaN       WOLLONGONG   \n767        67a Church St              NaN              NaN       WOLLONGONG   \n768       35-37 Gipps St              NaN              NaN       WOLLONGONG   \n769     36 Gladstone Ave              NaN              NaN       WOLLONGONG   \n770         49 Thames St              NaN              NaN  WEST WOLLONGONG   \n1069    Corporate Square          Level 4    43 Burelli St       WOLLONGONG   \n1079    Corporate Square          Level 4    43 Burelli St       WOLLONGONG   \n3029    Corporate Square          Level 4    43 Burelli St       WOLLONGONG   \n3042    Corporate Square          Level 4    43 Burelli St       WOLLONGONG   \n3072                 NaN              NaN              NaN       WOLLONGONG   \n\n     PremisesStateAb  PremisesPostCode   Latitude   Longitude  \n724              NSW            2500.0 -34.427135  150.898067  \n729              NSW            2500.0 -34.438600  150.887000  \n735              NSW            2500.0 -34.427011  150.898107  \n739              NSW            2500.0 -34.418079  150.879339  \n742              NSW            2500.0 -34.414700  150.873000  \n744              NSW            2500.0 -34.437281  150.870466  \n745              NSW            2500.0 -34.419980  150.863017  \n765              NSW            2500.0 -34.425718  150.897710  \n766              NSW            2500.0 -34.426057  150.899519  \n767              NSW            2500.0 -34.422548  150.896217  \n768              NSW            2500.0 -34.419200  150.895000  \n769              NSW            2500.0 -34.429600  150.886000  \n770              NSW            2500.0 -34.429834  150.861724  \n1069             NSW            2500.0 -34.875295  150.603992  \n1079             NSW            2500.0 -34.427011  150.898107  \n3029             NSW            2500.0 -34.427135  150.898067  \n3042             NSW            2500.0 -34.427135  150.898067  \n3072             NSW            2500.0        NaN         NaN  ",
      "text/html": "<div>\n<style scoped>\n    .dataframe tbody tr th:only-of-type {\n        vertical-align: middle;\n    }\n\n    .dataframe tbody tr th {\n        vertical-align: top;\n    }\n\n    .dataframe thead th {\n        text-align: right;\n    }\n</style>\n<table border=\"1\" class=\"dataframe\">\n  <thead>\n    <tr style=\"text-align: right;\">\n      <th></th>\n      <th>State</th>\n      <th>DivisionID</th>\n      <th>DivisionNm</th>\n      <th>PollingPlaceID</th>\n      <th>PollingPlaceTypeID</th>\n      <th>PollingPlaceNm</th>\n      <th>PremisesNm</th>\n      <th>PremisesAddress1</th>\n      <th>PremisesAddress2</th>\n      <th>PremisesAddress3</th>\n      <th>PremisesSuburb</th>\n      <th>PremisesStateAb</th>\n      <th>PremisesPostCode</th>\n      <th>Latitude</th>\n      <th>Longitude</th>\n    </tr>\n  </thead>\n  <tbody>\n    <tr>\n      <th>724</th>\n      <td>NSW</td>\n      <td>114</td>\n      <td>Cunningham</td>\n      <td>65460</td>\n      <td>5</td>\n      <td>BLV Cunningham PPVC</td>\n      <td>BLV Cunningham</td>\n      <td>Corporate Square</td>\n      <td>Level 4</td>\n      <td>43 Burelli St</td>\n      <td>WOLLONGONG</td>\n      <td>NSW</td>\n      <td>2500.0</td>\n      <td>-34.427135</td>\n      <td>150.898067</td>\n    </tr>\n    <tr>\n      <th>729</th>\n      <td>NSW</td>\n      <td>114</td>\n      <td>Cunningham</td>\n      <td>539</td>\n      <td>1</td>\n      <td>Coniston</td>\n      <td>Coniston Public School</td>\n      <td>123 Auburn St</td>\n      <td>NaN</td>\n      <td>NaN</td>\n      <td>CONISTON</td>\n      <td>NSW</td>\n      <td>2500.0</td>\n      <td>-34.438600</td>\n      <td>150.887000</td>\n    </tr>\n    <tr>\n      <th>735</th>\n      <td>NSW</td>\n      <td>114</td>\n      <td>Cunningham</td>\n      <td>30105</td>\n      <td>5</td>\n      <td>Divisional Office (PREPOLL)</td>\n      <td>Divisional Office</td>\n      <td>Corporate Square</td>\n      <td>Level 4</td>\n      <td>43 Burelli St</td>\n      <td>WOLLONGONG</td>\n      <td>NSW</td>\n      <td>2500.0</td>\n      <td>-34.427011</td>\n      <td>150.898107</td>\n    </tr>\n    <tr>\n      <th>739</th>\n      <td>NSW</td>\n      <td>114</td>\n      <td>Cunningham</td>\n      <td>544</td>\n      <td>1</td>\n      <td>Gwynneville</td>\n      <td>Gwynneville Primary School</td>\n      <td>10A Acacia Ave</td>\n      <td>NaN</td>\n      <td>NaN</td>\n      <td>GWYNNEVILLE</td>\n      <td>NSW</td>\n      <td>2500.0</td>\n      <td>-34.418079</td>\n      <td>150.879339</td>\n    </tr>\n    <tr>\n      <th>742</th>\n      <td>NSW</td>\n      <td>114</td>\n      <td>Cunningham</td>\n      <td>546</td>\n      <td>1</td>\n      <td>Keiraville</td>\n      <td>Keiraville Public School</td>\n      <td>286 Gipps Rd</td>\n      <td>NaN</td>\n      <td>NaN</td>\n      <td>KEIRAVILLE</td>\n      <td>NSW</td>\n      <td>2500.0</td>\n      <td>-34.414700</td>\n      <td>150.873000</td>\n    </tr>\n    <tr>\n      <th>744</th>\n      <td>NSW</td>\n      <td>114</td>\n      <td>Cunningham</td>\n      <td>555</td>\n      <td>1</td>\n      <td>Mangerton</td>\n      <td>Mount St Thomas Public School</td>\n      <td>12-14 Taronga Ave</td>\n      <td>NaN</td>\n      <td>NaN</td>\n      <td>MANGERTON</td>\n      <td>NSW</td>\n      <td>2500.0</td>\n      <td>-34.437281</td>\n      <td>150.870466</td>\n    </tr>\n    <tr>\n      <th>745</th>\n      <td>NSW</td>\n      <td>114</td>\n      <td>Cunningham</td>\n      <td>553</td>\n      <td>1</td>\n      <td>Mount Keira</td>\n      <td>Edmund Rice College</td>\n      <td>112 Mount Keira Rd</td>\n      <td>NaN</td>\n      <td>NaN</td>\n      <td>WEST WOLLONGONG</td>\n      <td>NSW</td>\n      <td>2500.0</td>\n      <td>-34.419980</td>\n      <td>150.863017</td>\n    </tr>\n    <tr>\n      <th>765</th>\n      <td>NSW</td>\n      <td>114</td>\n      <td>Cunningham</td>\n      <td>565</td>\n      <td>1</td>\n      <td>Wollongong</td>\n      <td>Wollongong Town Hall</td>\n      <td>93 Crown St</td>\n      <td>NaN</td>\n      <td>NaN</td>\n      <td>WOLLONGONG</td>\n      <td>NSW</td>\n      <td>2500.0</td>\n      <td>-34.425718</td>\n      <td>150.897710</td>\n    </tr>\n    <tr>\n      <th>766</th>\n      <td>NSW</td>\n      <td>114</td>\n      <td>Cunningham</td>\n      <td>34033</td>\n      <td>5</td>\n      <td>Wollongong CUNNINGHAM PPVC</td>\n      <td>3/51 Crown St</td>\n      <td>NaN</td>\n      <td>NaN</td>\n      <td>NaN</td>\n      <td>WOLLONGONG</td>\n      <td>NSW</td>\n      <td>2500.0</td>\n      <td>-34.426057</td>\n      <td>150.899519</td>\n    </tr>\n    <tr>\n      <th>767</th>\n      <td>NSW</td>\n      <td>114</td>\n      <td>Cunningham</td>\n      <td>83535</td>\n      <td>1</td>\n      <td>Wollongong East</td>\n      <td>Wollongong Public School</td>\n      <td>67a Church St</td>\n      <td>NaN</td>\n      <td>NaN</td>\n      <td>WOLLONGONG</td>\n      <td>NSW</td>\n      <td>2500.0</td>\n      <td>-34.422548</td>\n      <td>150.896217</td>\n    </tr>\n    <tr>\n      <th>768</th>\n      <td>NSW</td>\n      <td>114</td>\n      <td>Cunningham</td>\n      <td>568</td>\n      <td>1</td>\n      <td>Wollongong North</td>\n      <td>Smith's Hill High School</td>\n      <td>35-37 Gipps St</td>\n      <td>NaN</td>\n      <td>NaN</td>\n      <td>WOLLONGONG</td>\n      <td>NSW</td>\n      <td>2500.0</td>\n      <td>-34.419200</td>\n      <td>150.895000</td>\n    </tr>\n    <tr>\n      <th>769</th>\n      <td>NSW</td>\n      <td>114</td>\n      <td>Cunningham</td>\n      <td>566</td>\n      <td>1</td>\n      <td>Wollongong South</td>\n      <td>TAFE NSW Wollongong West</td>\n      <td>36 Gladstone Ave</td>\n      <td>NaN</td>\n      <td>NaN</td>\n      <td>WOLLONGONG</td>\n      <td>NSW</td>\n      <td>2500.0</td>\n      <td>-34.429600</td>\n      <td>150.886000</td>\n    </tr>\n    <tr>\n      <th>770</th>\n      <td>NSW</td>\n      <td>114</td>\n      <td>Cunningham</td>\n      <td>551</td>\n      <td>1</td>\n      <td>Wollongong West</td>\n      <td>Lindsay Park Public School</td>\n      <td>49 Thames St</td>\n      <td>NaN</td>\n      <td>NaN</td>\n      <td>WEST WOLLONGONG</td>\n      <td>NSW</td>\n      <td>2500.0</td>\n      <td>-34.429834</td>\n      <td>150.861724</td>\n    </tr>\n    <tr>\n      <th>1069</th>\n      <td>NSW</td>\n      <td>120</td>\n      <td>Gilmore</td>\n      <td>65612</td>\n      <td>5</td>\n      <td>BLV Gilmore PPVC</td>\n      <td>BLV Gilmore</td>\n      <td>Corporate Square</td>\n      <td>Level 4</td>\n      <td>43 Burelli St</td>\n      <td>WOLLONGONG</td>\n      <td>NSW</td>\n      <td>2500.0</td>\n      <td>-34.875295</td>\n      <td>150.603992</td>\n    </tr>\n    <tr>\n      <th>1079</th>\n      <td>NSW</td>\n      <td>120</td>\n      <td>Gilmore</td>\n      <td>30111</td>\n      <td>5</td>\n      <td>Divisional Office (PREPOLL)</td>\n      <td>Divisional Office</td>\n      <td>Corporate Square</td>\n      <td>Level 4</td>\n      <td>43 Burelli St</td>\n      <td>WOLLONGONG</td>\n      <td>NSW</td>\n      <td>2500.0</td>\n      <td>-34.427011</td>\n      <td>150.898107</td>\n    </tr>\n    <tr>\n      <th>3029</th>\n      <td>NSW</td>\n      <td>150</td>\n      <td>Whitlam</td>\n      <td>65458</td>\n      <td>5</td>\n      <td>BLV Whitlam PPVC</td>\n      <td>BVL Whitlam</td>\n      <td>Corporate Square</td>\n      <td>Level 4</td>\n      <td>43 Burelli St</td>\n      <td>WOLLONGONG</td>\n      <td>NSW</td>\n      <td>2500.0</td>\n      <td>-34.427135</td>\n      <td>150.898067</td>\n    </tr>\n    <tr>\n      <th>3042</th>\n      <td>NSW</td>\n      <td>150</td>\n      <td>Whitlam</td>\n      <td>30141</td>\n      <td>5</td>\n      <td>Divisional Office (PREPOLL)</td>\n      <td>Divisional Office</td>\n      <td>Corporate Square</td>\n      <td>Level 4</td>\n      <td>43 Burelli St</td>\n      <td>WOLLONGONG</td>\n      <td>NSW</td>\n      <td>2500.0</td>\n      <td>-34.427135</td>\n      <td>150.898067</td>\n    </tr>\n    <tr>\n      <th>3072</th>\n      <td>NSW</td>\n      <td>150</td>\n      <td>Whitlam</td>\n      <td>58667</td>\n      <td>5</td>\n      <td>Wollongong WHITLAM PPVC</td>\n      <td>3/51 Crown St</td>\n      <td>NaN</td>\n      <td>NaN</td>\n      <td>NaN</td>\n      <td>WOLLONGONG</td>\n      <td>NSW</td>\n      <td>2500.0</td>\n      <td>NaN</td>\n      <td>NaN</td>\n    </tr>\n  </tbody>\n</table>\n</div>"
     },
     "metadata": {},
     "execution_count": 3
    }
   ],
   "source": [
    "\n",
    "booths2500 = booths[booths['PremisesPostCode']==2500]\n",
    "booths2500"
   ]
  },
  {
   "cell_type": "code",
   "execution_count": 11,
   "metadata": {},
   "outputs": [
    {
     "output_type": "display_data",
     "data": {
      "application/vnd.plotly.v1+json": {
       "config": {
        "plotlyServerURL": "https://plot.ly"
       },
       "data": [
        {
         "customdata": [
          [
           "Cunningham",
           "BLV Cunningham PPVC"
          ],
          [
           "Cunningham",
           "Coniston"
          ],
          [
           "Cunningham",
           "Divisional Office (PREPOLL)"
          ],
          [
           "Cunningham",
           "Gwynneville"
          ],
          [
           "Cunningham",
           "Keiraville"
          ],
          [
           "Cunningham",
           "Mangerton"
          ],
          [
           "Cunningham",
           "Mount Keira"
          ],
          [
           "Cunningham",
           "Wollongong"
          ],
          [
           "Cunningham",
           "Wollongong CUNNINGHAM PPVC"
          ],
          [
           "Cunningham",
           "Wollongong East"
          ],
          [
           "Cunningham",
           "Wollongong North"
          ],
          [
           "Cunningham",
           "Wollongong South"
          ],
          [
           "Cunningham",
           "Wollongong West"
          ],
          [
           "Gilmore",
           "BLV Gilmore PPVC"
          ],
          [
           "Gilmore",
           "Divisional Office (PREPOLL)"
          ],
          [
           "Whitlam",
           "BLV Whitlam PPVC"
          ],
          [
           "Whitlam",
           "Divisional Office (PREPOLL)"
          ],
          [
           "Whitlam",
           "Wollongong WHITLAM PPVC"
          ]
         ],
         "hovertemplate": "<b>%{hovertext}</b><br><br>Latitude=%{lat}<br>Longitude=%{lon}<br>DivisionNm=%{customdata[0]}<br>PollingPlaceNm=%{customdata[1]}<extra></extra>",
         "hovertext": [
          "BLV Cunningham",
          "Coniston Public School",
          "Divisional Office",
          "Gwynneville Primary School",
          "Keiraville Public School",
          "Mount St Thomas Public School",
          "Edmund Rice College",
          "Wollongong Town Hall",
          "3/51 Crown St",
          "Wollongong Public School",
          "Smith's Hill High School",
          "TAFE NSW Wollongong West",
          "Lindsay Park Public School",
          "BLV Gilmore",
          "Divisional Office",
          "BVL Whitlam",
          "Divisional Office",
          "3/51 Crown St"
         ],
         "lat": [
          -34.427135,
          -34.4386,
          -34.4270111,
          -34.418079399999996,
          -34.4147,
          -34.4372815,
          -34.4199799,
          -34.425717600000006,
          -34.4260568,
          -34.4225479,
          -34.4192,
          -34.4296,
          -34.4298345,
          -34.8752954,
          -34.4270111,
          -34.427135,
          -34.427135,
          null
         ],
         "legendgroup": "",
         "lon": [
          150.898067,
          150.887,
          150.8981072,
          150.879339,
          150.873,
          150.8704656,
          150.86301740000002,
          150.8977103,
          150.8995189,
          150.8962167,
          150.895,
          150.886,
          150.8617242,
          150.60399180000002,
          150.8981072,
          150.898067,
          150.898067,
          null
         ],
         "marker": {
          "color": "#636efa"
         },
         "mode": "markers",
         "name": "",
         "showlegend": false,
         "subplot": "mapbox",
         "type": "scattermapbox"
        }
       ],
       "layout": {
        "height": 300,
        "legend": {
         "tracegroupgap": 0
        },
        "mapbox": {
         "center": {
          "lat": -34.452489423529414,
          "lon": 150.87078819411764
         },
         "domain": {
          "x": [
           0,
           1
          ],
          "y": [
           0,
           1
          ]
         },
         "style": "open-street-map",
         "zoom": 11
        },
        "margin": {
         "b": 0,
         "l": 0,
         "r": 0,
         "t": 0
        },
        "template": {
         "data": {
          "bar": [
           {
            "error_x": {
             "color": "#2a3f5f"
            },
            "error_y": {
             "color": "#2a3f5f"
            },
            "marker": {
             "line": {
              "color": "#E5ECF6",
              "width": 0.5
             }
            },
            "type": "bar"
           }
          ],
          "barpolar": [
           {
            "marker": {
             "line": {
              "color": "#E5ECF6",
              "width": 0.5
             }
            },
            "type": "barpolar"
           }
          ],
          "carpet": [
           {
            "aaxis": {
             "endlinecolor": "#2a3f5f",
             "gridcolor": "white",
             "linecolor": "white",
             "minorgridcolor": "white",
             "startlinecolor": "#2a3f5f"
            },
            "baxis": {
             "endlinecolor": "#2a3f5f",
             "gridcolor": "white",
             "linecolor": "white",
             "minorgridcolor": "white",
             "startlinecolor": "#2a3f5f"
            },
            "type": "carpet"
           }
          ],
          "choropleth": [
           {
            "colorbar": {
             "outlinewidth": 0,
             "ticks": ""
            },
            "type": "choropleth"
           }
          ],
          "contour": [
           {
            "colorbar": {
             "outlinewidth": 0,
             "ticks": ""
            },
            "colorscale": [
             [
              0,
              "#0d0887"
             ],
             [
              0.1111111111111111,
              "#46039f"
             ],
             [
              0.2222222222222222,
              "#7201a8"
             ],
             [
              0.3333333333333333,
              "#9c179e"
             ],
             [
              0.4444444444444444,
              "#bd3786"
             ],
             [
              0.5555555555555556,
              "#d8576b"
             ],
             [
              0.6666666666666666,
              "#ed7953"
             ],
             [
              0.7777777777777778,
              "#fb9f3a"
             ],
             [
              0.8888888888888888,
              "#fdca26"
             ],
             [
              1,
              "#f0f921"
             ]
            ],
            "type": "contour"
           }
          ],
          "contourcarpet": [
           {
            "colorbar": {
             "outlinewidth": 0,
             "ticks": ""
            },
            "type": "contourcarpet"
           }
          ],
          "heatmap": [
           {
            "colorbar": {
             "outlinewidth": 0,
             "ticks": ""
            },
            "colorscale": [
             [
              0,
              "#0d0887"
             ],
             [
              0.1111111111111111,
              "#46039f"
             ],
             [
              0.2222222222222222,
              "#7201a8"
             ],
             [
              0.3333333333333333,
              "#9c179e"
             ],
             [
              0.4444444444444444,
              "#bd3786"
             ],
             [
              0.5555555555555556,
              "#d8576b"
             ],
             [
              0.6666666666666666,
              "#ed7953"
             ],
             [
              0.7777777777777778,
              "#fb9f3a"
             ],
             [
              0.8888888888888888,
              "#fdca26"
             ],
             [
              1,
              "#f0f921"
             ]
            ],
            "type": "heatmap"
           }
          ],
          "heatmapgl": [
           {
            "colorbar": {
             "outlinewidth": 0,
             "ticks": ""
            },
            "colorscale": [
             [
              0,
              "#0d0887"
             ],
             [
              0.1111111111111111,
              "#46039f"
             ],
             [
              0.2222222222222222,
              "#7201a8"
             ],
             [
              0.3333333333333333,
              "#9c179e"
             ],
             [
              0.4444444444444444,
              "#bd3786"
             ],
             [
              0.5555555555555556,
              "#d8576b"
             ],
             [
              0.6666666666666666,
              "#ed7953"
             ],
             [
              0.7777777777777778,
              "#fb9f3a"
             ],
             [
              0.8888888888888888,
              "#fdca26"
             ],
             [
              1,
              "#f0f921"
             ]
            ],
            "type": "heatmapgl"
           }
          ],
          "histogram": [
           {
            "marker": {
             "colorbar": {
              "outlinewidth": 0,
              "ticks": ""
             }
            },
            "type": "histogram"
           }
          ],
          "histogram2d": [
           {
            "colorbar": {
             "outlinewidth": 0,
             "ticks": ""
            },
            "colorscale": [
             [
              0,
              "#0d0887"
             ],
             [
              0.1111111111111111,
              "#46039f"
             ],
             [
              0.2222222222222222,
              "#7201a8"
             ],
             [
              0.3333333333333333,
              "#9c179e"
             ],
             [
              0.4444444444444444,
              "#bd3786"
             ],
             [
              0.5555555555555556,
              "#d8576b"
             ],
             [
              0.6666666666666666,
              "#ed7953"
             ],
             [
              0.7777777777777778,
              "#fb9f3a"
             ],
             [
              0.8888888888888888,
              "#fdca26"
             ],
             [
              1,
              "#f0f921"
             ]
            ],
            "type": "histogram2d"
           }
          ],
          "histogram2dcontour": [
           {
            "colorbar": {
             "outlinewidth": 0,
             "ticks": ""
            },
            "colorscale": [
             [
              0,
              "#0d0887"
             ],
             [
              0.1111111111111111,
              "#46039f"
             ],
             [
              0.2222222222222222,
              "#7201a8"
             ],
             [
              0.3333333333333333,
              "#9c179e"
             ],
             [
              0.4444444444444444,
              "#bd3786"
             ],
             [
              0.5555555555555556,
              "#d8576b"
             ],
             [
              0.6666666666666666,
              "#ed7953"
             ],
             [
              0.7777777777777778,
              "#fb9f3a"
             ],
             [
              0.8888888888888888,
              "#fdca26"
             ],
             [
              1,
              "#f0f921"
             ]
            ],
            "type": "histogram2dcontour"
           }
          ],
          "mesh3d": [
           {
            "colorbar": {
             "outlinewidth": 0,
             "ticks": ""
            },
            "type": "mesh3d"
           }
          ],
          "parcoords": [
           {
            "line": {
             "colorbar": {
              "outlinewidth": 0,
              "ticks": ""
             }
            },
            "type": "parcoords"
           }
          ],
          "pie": [
           {
            "automargin": true,
            "type": "pie"
           }
          ],
          "scatter": [
           {
            "marker": {
             "colorbar": {
              "outlinewidth": 0,
              "ticks": ""
             }
            },
            "type": "scatter"
           }
          ],
          "scatter3d": [
           {
            "line": {
             "colorbar": {
              "outlinewidth": 0,
              "ticks": ""
             }
            },
            "marker": {
             "colorbar": {
              "outlinewidth": 0,
              "ticks": ""
             }
            },
            "type": "scatter3d"
           }
          ],
          "scattercarpet": [
           {
            "marker": {
             "colorbar": {
              "outlinewidth": 0,
              "ticks": ""
             }
            },
            "type": "scattercarpet"
           }
          ],
          "scattergeo": [
           {
            "marker": {
             "colorbar": {
              "outlinewidth": 0,
              "ticks": ""
             }
            },
            "type": "scattergeo"
           }
          ],
          "scattergl": [
           {
            "marker": {
             "colorbar": {
              "outlinewidth": 0,
              "ticks": ""
             }
            },
            "type": "scattergl"
           }
          ],
          "scattermapbox": [
           {
            "marker": {
             "colorbar": {
              "outlinewidth": 0,
              "ticks": ""
             }
            },
            "type": "scattermapbox"
           }
          ],
          "scatterpolar": [
           {
            "marker": {
             "colorbar": {
              "outlinewidth": 0,
              "ticks": ""
             }
            },
            "type": "scatterpolar"
           }
          ],
          "scatterpolargl": [
           {
            "marker": {
             "colorbar": {
              "outlinewidth": 0,
              "ticks": ""
             }
            },
            "type": "scatterpolargl"
           }
          ],
          "scatterternary": [
           {
            "marker": {
             "colorbar": {
              "outlinewidth": 0,
              "ticks": ""
             }
            },
            "type": "scatterternary"
           }
          ],
          "surface": [
           {
            "colorbar": {
             "outlinewidth": 0,
             "ticks": ""
            },
            "colorscale": [
             [
              0,
              "#0d0887"
             ],
             [
              0.1111111111111111,
              "#46039f"
             ],
             [
              0.2222222222222222,
              "#7201a8"
             ],
             [
              0.3333333333333333,
              "#9c179e"
             ],
             [
              0.4444444444444444,
              "#bd3786"
             ],
             [
              0.5555555555555556,
              "#d8576b"
             ],
             [
              0.6666666666666666,
              "#ed7953"
             ],
             [
              0.7777777777777778,
              "#fb9f3a"
             ],
             [
              0.8888888888888888,
              "#fdca26"
             ],
             [
              1,
              "#f0f921"
             ]
            ],
            "type": "surface"
           }
          ],
          "table": [
           {
            "cells": {
             "fill": {
              "color": "#EBF0F8"
             },
             "line": {
              "color": "white"
             }
            },
            "header": {
             "fill": {
              "color": "#C8D4E3"
             },
             "line": {
              "color": "white"
             }
            },
            "type": "table"
           }
          ]
         },
         "layout": {
          "annotationdefaults": {
           "arrowcolor": "#2a3f5f",
           "arrowhead": 0,
           "arrowwidth": 1
          },
          "coloraxis": {
           "colorbar": {
            "outlinewidth": 0,
            "ticks": ""
           }
          },
          "colorscale": {
           "diverging": [
            [
             0,
             "#8e0152"
            ],
            [
             0.1,
             "#c51b7d"
            ],
            [
             0.2,
             "#de77ae"
            ],
            [
             0.3,
             "#f1b6da"
            ],
            [
             0.4,
             "#fde0ef"
            ],
            [
             0.5,
             "#f7f7f7"
            ],
            [
             0.6,
             "#e6f5d0"
            ],
            [
             0.7,
             "#b8e186"
            ],
            [
             0.8,
             "#7fbc41"
            ],
            [
             0.9,
             "#4d9221"
            ],
            [
             1,
             "#276419"
            ]
           ],
           "sequential": [
            [
             0,
             "#0d0887"
            ],
            [
             0.1111111111111111,
             "#46039f"
            ],
            [
             0.2222222222222222,
             "#7201a8"
            ],
            [
             0.3333333333333333,
             "#9c179e"
            ],
            [
             0.4444444444444444,
             "#bd3786"
            ],
            [
             0.5555555555555556,
             "#d8576b"
            ],
            [
             0.6666666666666666,
             "#ed7953"
            ],
            [
             0.7777777777777778,
             "#fb9f3a"
            ],
            [
             0.8888888888888888,
             "#fdca26"
            ],
            [
             1,
             "#f0f921"
            ]
           ],
           "sequentialminus": [
            [
             0,
             "#0d0887"
            ],
            [
             0.1111111111111111,
             "#46039f"
            ],
            [
             0.2222222222222222,
             "#7201a8"
            ],
            [
             0.3333333333333333,
             "#9c179e"
            ],
            [
             0.4444444444444444,
             "#bd3786"
            ],
            [
             0.5555555555555556,
             "#d8576b"
            ],
            [
             0.6666666666666666,
             "#ed7953"
            ],
            [
             0.7777777777777778,
             "#fb9f3a"
            ],
            [
             0.8888888888888888,
             "#fdca26"
            ],
            [
             1,
             "#f0f921"
            ]
           ]
          },
          "colorway": [
           "#636efa",
           "#EF553B",
           "#00cc96",
           "#ab63fa",
           "#FFA15A",
           "#19d3f3",
           "#FF6692",
           "#B6E880",
           "#FF97FF",
           "#FECB52"
          ],
          "font": {
           "color": "#2a3f5f"
          },
          "geo": {
           "bgcolor": "white",
           "lakecolor": "white",
           "landcolor": "#E5ECF6",
           "showlakes": true,
           "showland": true,
           "subunitcolor": "white"
          },
          "hoverlabel": {
           "align": "left"
          },
          "hovermode": "closest",
          "mapbox": {
           "style": "light"
          },
          "paper_bgcolor": "white",
          "plot_bgcolor": "#E5ECF6",
          "polar": {
           "angularaxis": {
            "gridcolor": "white",
            "linecolor": "white",
            "ticks": ""
           },
           "bgcolor": "#E5ECF6",
           "radialaxis": {
            "gridcolor": "white",
            "linecolor": "white",
            "ticks": ""
           }
          },
          "scene": {
           "xaxis": {
            "backgroundcolor": "#E5ECF6",
            "gridcolor": "white",
            "gridwidth": 2,
            "linecolor": "white",
            "showbackground": true,
            "ticks": "",
            "zerolinecolor": "white"
           },
           "yaxis": {
            "backgroundcolor": "#E5ECF6",
            "gridcolor": "white",
            "gridwidth": 2,
            "linecolor": "white",
            "showbackground": true,
            "ticks": "",
            "zerolinecolor": "white"
           },
           "zaxis": {
            "backgroundcolor": "#E5ECF6",
            "gridcolor": "white",
            "gridwidth": 2,
            "linecolor": "white",
            "showbackground": true,
            "ticks": "",
            "zerolinecolor": "white"
           }
          },
          "shapedefaults": {
           "line": {
            "color": "#2a3f5f"
           }
          },
          "ternary": {
           "aaxis": {
            "gridcolor": "white",
            "linecolor": "white",
            "ticks": ""
           },
           "baxis": {
            "gridcolor": "white",
            "linecolor": "white",
            "ticks": ""
           },
           "bgcolor": "#E5ECF6",
           "caxis": {
            "gridcolor": "white",
            "linecolor": "white",
            "ticks": ""
           }
          },
          "title": {
           "x": 0.05
          },
          "xaxis": {
           "automargin": true,
           "gridcolor": "white",
           "linecolor": "white",
           "ticks": "",
           "title": {
            "standoff": 15
           },
           "zerolinecolor": "white",
           "zerolinewidth": 2
          },
          "yaxis": {
           "automargin": true,
           "gridcolor": "white",
           "linecolor": "white",
           "ticks": "",
           "title": {
            "standoff": 15
           },
           "zerolinecolor": "white",
           "zerolinewidth": 2
          }
         }
        }
       }
      }
     },
     "metadata": {}
    }
   ],
   "source": [
    "fig = px.scatter_mapbox(booths2500, lat=\"Latitude\", lon=\"Longitude\", hover_name=\"PremisesNm\", \n",
    "                        hover_data=[\"DivisionNm\", \"PollingPlaceNm\"],\n",
    "                        zoom=11, height=300)\n",
    "fig.update_layout(mapbox_style=\"open-street-map\")\n",
    "fig.update_layout(margin={\"r\":0,\"t\":0,\"l\":0,\"b\":0})\n",
    "fig.show()"
   ]
  },
  {
   "cell_type": "code",
   "execution_count": 16,
   "metadata": {},
   "outputs": [
    {
     "output_type": "execute_result",
     "data": {
      "text/plain": "PollingPlaceTypeID\n1    7169\n2     489\n3      42\n4      26\n5    1149\nName: DivisionID, dtype: int64"
     },
     "metadata": {},
     "execution_count": 16
    }
   ],
   "source": [
    "booths.groupby('PollingPlaceTypeID')['DivisionID'].count()"
   ]
  },
  {
   "cell_type": "code",
   "execution_count": 17,
   "metadata": {},
   "outputs": [
    {
     "output_type": "execute_result",
     "data": {
      "text/plain": "     State  DivisionID DivisionNm  PollingPlaceID  PollingPlaceTypeID  \\\n0      ACT         318       Bean           93925                   5   \n1      ACT         318       Bean           93927                   5   \n7      ACT         318       Bean           93922                   5   \n12     ACT         318       Bean           93932                   5   \n22     ACT         318       Bean           93929                   5   \n...    ...         ...        ...             ...                 ...   \n8831    WA         248    Tangney           64592                   5   \n8837    WA         248    Tangney           65478                   5   \n8843    WA         248    Tangney           83332                   5   \n8844    WA         248    Tangney           30239                   5   \n8858    WA         248    Tangney           94436                   5   \n\n                   PollingPlaceNm                   PremisesNm  \\\n0             Belconnen BEAN PPVC   Belconnen Community Centre   \n1                   BLV Bean PPVC                 BLV Canberra   \n7                  City BEAN PPVC  Canberra Museum and Gallery   \n12    Divisional Office (PREPOLL)            Divisional Office   \n22            Gungahlin BEAN PPVC              Quokka Pavilion   \n...                           ...                          ...   \n8831                 Ardross PPVC                14 Riseley St   \n8837             BLV Tangney PPVC                  BLV Tangney   \n8843      Cannington TANGNEY PPVC              1280 ALbany Hwy   \n8844  Divisional Office (PREPOLL)            Divisional Office   \n8858           Perth TANGNEY PPVC                The Cloisters   \n\n         PremisesAddress1    PremisesAddress2 PremisesAddress3 PremisesSuburb  \\\n0          26 Chandler St                 NaN              NaN      BELCONNEN   \n1     50 Marcus Clarke St                 NaN              NaN  CANBERRA CITY   \n7         176 London Crct                 NaN              NaN  CANBERRA CITY   \n12    50 Marcus Clarke St                 NaN              NaN  CANBERRA CITY   \n22          Flemington Rd                 NaN              NaN       MITCHELL   \n...                   ...                 ...              ...            ...   \n8831                  NaN                 NaN              NaN        ARDROSS   \n8837             Level 13  200 St Georges Tce              NaN          PERTH   \n8843                  NaN                 NaN              NaN     CANNINGTON   \n8844             Level 13  200 St Georges Tce              NaN          PERTH   \n8858         Ground Floor  200 St Georges Tce              NaN          PERTH   \n\n     PremisesStateAb  PremisesPostCode   Latitude   Longitude  \n0                ACT            2900.0 -35.238930  149.069655  \n1                ACT            2601.0 -35.277334  149.126869  \n7                ACT            2601.0 -35.280517  149.130861  \n12               ACT            2601.0 -35.277334  149.126869  \n22               ACT            2911.0 -35.219324  149.145173  \n...              ...               ...        ...         ...  \n8831              WA            6153.0 -32.020883  115.834731  \n8837              WA            6000.0 -31.953563  115.853295  \n8843              WA            6107.0 -32.017000  115.934000  \n8844              WA            6000.0 -31.952853  115.853352  \n8858              WA            6000.0 -31.953052  115.853332  \n\n[1149 rows x 15 columns]",
      "text/html": "<div>\n<style scoped>\n    .dataframe tbody tr th:only-of-type {\n        vertical-align: middle;\n    }\n\n    .dataframe tbody tr th {\n        vertical-align: top;\n    }\n\n    .dataframe thead th {\n        text-align: right;\n    }\n</style>\n<table border=\"1\" class=\"dataframe\">\n  <thead>\n    <tr style=\"text-align: right;\">\n      <th></th>\n      <th>State</th>\n      <th>DivisionID</th>\n      <th>DivisionNm</th>\n      <th>PollingPlaceID</th>\n      <th>PollingPlaceTypeID</th>\n      <th>PollingPlaceNm</th>\n      <th>PremisesNm</th>\n      <th>PremisesAddress1</th>\n      <th>PremisesAddress2</th>\n      <th>PremisesAddress3</th>\n      <th>PremisesSuburb</th>\n      <th>PremisesStateAb</th>\n      <th>PremisesPostCode</th>\n      <th>Latitude</th>\n      <th>Longitude</th>\n    </tr>\n  </thead>\n  <tbody>\n    <tr>\n      <th>0</th>\n      <td>ACT</td>\n      <td>318</td>\n      <td>Bean</td>\n      <td>93925</td>\n      <td>5</td>\n      <td>Belconnen BEAN PPVC</td>\n      <td>Belconnen Community Centre</td>\n      <td>26 Chandler St</td>\n      <td>NaN</td>\n      <td>NaN</td>\n      <td>BELCONNEN</td>\n      <td>ACT</td>\n      <td>2900.0</td>\n      <td>-35.238930</td>\n      <td>149.069655</td>\n    </tr>\n    <tr>\n      <th>1</th>\n      <td>ACT</td>\n      <td>318</td>\n      <td>Bean</td>\n      <td>93927</td>\n      <td>5</td>\n      <td>BLV Bean PPVC</td>\n      <td>BLV Canberra</td>\n      <td>50 Marcus Clarke St</td>\n      <td>NaN</td>\n      <td>NaN</td>\n      <td>CANBERRA CITY</td>\n      <td>ACT</td>\n      <td>2601.0</td>\n      <td>-35.277334</td>\n      <td>149.126869</td>\n    </tr>\n    <tr>\n      <th>7</th>\n      <td>ACT</td>\n      <td>318</td>\n      <td>Bean</td>\n      <td>93922</td>\n      <td>5</td>\n      <td>City BEAN PPVC</td>\n      <td>Canberra Museum and Gallery</td>\n      <td>176 London Crct</td>\n      <td>NaN</td>\n      <td>NaN</td>\n      <td>CANBERRA CITY</td>\n      <td>ACT</td>\n      <td>2601.0</td>\n      <td>-35.280517</td>\n      <td>149.130861</td>\n    </tr>\n    <tr>\n      <th>12</th>\n      <td>ACT</td>\n      <td>318</td>\n      <td>Bean</td>\n      <td>93932</td>\n      <td>5</td>\n      <td>Divisional Office (PREPOLL)</td>\n      <td>Divisional Office</td>\n      <td>50 Marcus Clarke St</td>\n      <td>NaN</td>\n      <td>NaN</td>\n      <td>CANBERRA CITY</td>\n      <td>ACT</td>\n      <td>2601.0</td>\n      <td>-35.277334</td>\n      <td>149.126869</td>\n    </tr>\n    <tr>\n      <th>22</th>\n      <td>ACT</td>\n      <td>318</td>\n      <td>Bean</td>\n      <td>93929</td>\n      <td>5</td>\n      <td>Gungahlin BEAN PPVC</td>\n      <td>Quokka Pavilion</td>\n      <td>Flemington Rd</td>\n      <td>NaN</td>\n      <td>NaN</td>\n      <td>MITCHELL</td>\n      <td>ACT</td>\n      <td>2911.0</td>\n      <td>-35.219324</td>\n      <td>149.145173</td>\n    </tr>\n    <tr>\n      <th>...</th>\n      <td>...</td>\n      <td>...</td>\n      <td>...</td>\n      <td>...</td>\n      <td>...</td>\n      <td>...</td>\n      <td>...</td>\n      <td>...</td>\n      <td>...</td>\n      <td>...</td>\n      <td>...</td>\n      <td>...</td>\n      <td>...</td>\n      <td>...</td>\n      <td>...</td>\n    </tr>\n    <tr>\n      <th>8831</th>\n      <td>WA</td>\n      <td>248</td>\n      <td>Tangney</td>\n      <td>64592</td>\n      <td>5</td>\n      <td>Ardross PPVC</td>\n      <td>14 Riseley St</td>\n      <td>NaN</td>\n      <td>NaN</td>\n      <td>NaN</td>\n      <td>ARDROSS</td>\n      <td>WA</td>\n      <td>6153.0</td>\n      <td>-32.020883</td>\n      <td>115.834731</td>\n    </tr>\n    <tr>\n      <th>8837</th>\n      <td>WA</td>\n      <td>248</td>\n      <td>Tangney</td>\n      <td>65478</td>\n      <td>5</td>\n      <td>BLV Tangney PPVC</td>\n      <td>BLV Tangney</td>\n      <td>Level 13</td>\n      <td>200 St Georges Tce</td>\n      <td>NaN</td>\n      <td>PERTH</td>\n      <td>WA</td>\n      <td>6000.0</td>\n      <td>-31.953563</td>\n      <td>115.853295</td>\n    </tr>\n    <tr>\n      <th>8843</th>\n      <td>WA</td>\n      <td>248</td>\n      <td>Tangney</td>\n      <td>83332</td>\n      <td>5</td>\n      <td>Cannington TANGNEY PPVC</td>\n      <td>1280 ALbany Hwy</td>\n      <td>NaN</td>\n      <td>NaN</td>\n      <td>NaN</td>\n      <td>CANNINGTON</td>\n      <td>WA</td>\n      <td>6107.0</td>\n      <td>-32.017000</td>\n      <td>115.934000</td>\n    </tr>\n    <tr>\n      <th>8844</th>\n      <td>WA</td>\n      <td>248</td>\n      <td>Tangney</td>\n      <td>30239</td>\n      <td>5</td>\n      <td>Divisional Office (PREPOLL)</td>\n      <td>Divisional Office</td>\n      <td>Level 13</td>\n      <td>200 St Georges Tce</td>\n      <td>NaN</td>\n      <td>PERTH</td>\n      <td>WA</td>\n      <td>6000.0</td>\n      <td>-31.952853</td>\n      <td>115.853352</td>\n    </tr>\n    <tr>\n      <th>8858</th>\n      <td>WA</td>\n      <td>248</td>\n      <td>Tangney</td>\n      <td>94436</td>\n      <td>5</td>\n      <td>Perth TANGNEY PPVC</td>\n      <td>The Cloisters</td>\n      <td>Ground Floor</td>\n      <td>200 St Georges Tce</td>\n      <td>NaN</td>\n      <td>PERTH</td>\n      <td>WA</td>\n      <td>6000.0</td>\n      <td>-31.953052</td>\n      <td>115.853332</td>\n    </tr>\n  </tbody>\n</table>\n<p>1149 rows × 15 columns</p>\n</div>"
     },
     "metadata": {},
     "execution_count": 17
    }
   ],
   "source": [
    "booths[booths['PollingPlaceTypeID']==5]"
   ]
  },
  {
   "cell_type": "code",
   "execution_count": null,
   "metadata": {},
   "outputs": [],
   "source": []
  }
 ]
}